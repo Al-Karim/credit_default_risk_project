{
 "cells": [
  {
   "cell_type": "markdown",
   "metadata": {},
   "source": [
    "# Experiment 4. Обучение модели с использованием PyTorch\n",
    "\n",
    "## Цель эксперимента\n",
    "\n",
    "Цель данного эксперимента заключается в оценке влияния обработки пропусков на производительность модели машинного обучения. Мы будем использовать `SimpleImputer` для заполнения пропусков в данных, а затем обучим простую нейронную сеть с использованием библиотеки PyTorch.\n",
    "\n",
    "## Описание данных\n",
    "\n",
    "Данные загружаются из файла `processed_application_train.csv`, который содержит информацию о заявках. Целевая переменная обозначена как `target`, и мы будем использовать остальные столбцы в качестве признаков для обучения модели.\n",
    "\n",
    "## Процесс эксперимента\n",
    "\n",
    "1. **Загрузка данных**: Данные загружаются из CSV файла с использованием библиотеки pandas.\n",
    "\n",
    "2. **Обработка пропусков**: \n",
    "   - Для заполнения пропусков в данных используется `SimpleImputer` с стратегией `most_frequent`, что позволяет заменить пропуски наиболее частым значением в каждом столбце.\n",
    "   \n",
    "3. **Разделение данных**: Данные разделяются на обучающую и тестовую выборки с использованием `train_test_split` из библиотеки scikit-learn.\n",
    "\n",
    "4. **Стандартизация данных**: Признаки стандартизируются с помощью `StandardScaler`, чтобы привести их к одному масштабу.\n",
    "\n",
    "5. **Создание тензоров**: Данные преобразуются в тензоры PyTorch для дальнейшего использования в модели.\n",
    "\n",
    "6. **Определение модели**: Создается простая нейронная сеть с двумя скрытыми слоями и выходным слоем с активацией сигмоид для бинарной классификации.\n",
    "\n",
    "7. **Обучение модели**: Модель обучается на обучающей выборке с использованием бинарной кросс-энтропии в качестве функции потерь и Adam в качестве оптимизатора.\n",
    "\n",
    "8. **Оценка модели**: После обучения модель оценивается на тестовой выборке, и вычисляется точность предсказаний.\n",
    "\n",
    "## Результаты\n",
    "\n",
    "В результате эксперимента мы получим значение точности модели на тестовой выборке, что позволит оценить, насколько эффективно заполнение пропусков повлияло на производительность модели.\n",
    "\n",
    "## Заключение\n",
    "\n",
    "Данный эксперимент поможет понять, как обработка пропусков в данных влияет на качество предсказаний модели. Результаты могут быть использованы для дальнейших улучшений в предобработке данных и выборе моделей.\n"
   ]
  },
  {
   "cell_type": "code",
   "execution_count": 1,
   "metadata": {},
   "outputs": [],
   "source": [
    "%load_ext autoreload\n",
    "%autoreload 2"
   ]
  },
  {
   "cell_type": "code",
   "execution_count": 2,
   "metadata": {},
   "outputs": [],
   "source": [
    "import pandas as pd\n",
    "import numpy as np\n",
    "import matplotlib.pyplot as plt\n",
    "import torch\n",
    "import torch.nn as nn\n",
    "import torch.optim as optim\n",
    "from sklearn.model_selection import train_test_split\n",
    "from sklearn.preprocessing import StandardScaler\n",
    "from sklearn.impute import SimpleImputer\n",
    "from torch.utils.data import DataLoader, TensorDataset\n",
    "\n",
    "from utils.roc_auc import plot_roc_curve"
   ]
  },
  {
   "cell_type": "code",
   "execution_count": 3,
   "metadata": {},
   "outputs": [],
   "source": [
    "target_column = 'TARGET'"
   ]
  },
  {
   "cell_type": "code",
   "execution_count": 4,
   "metadata": {},
   "outputs": [],
   "source": [
    "data = pd.read_csv(\"./data/processed_data/processed_application_train.csv\", index_col=0)"
   ]
  },
  {
   "cell_type": "code",
   "execution_count": 5,
   "metadata": {},
   "outputs": [],
   "source": [
    "# Предположим, что 'target' - это целевая переменная\n",
    "X = data.drop(columns=[target_column]).values\n",
    "y = data[target_column].values\n",
    "\n",
    "# Обработка пропусков с помощью SimpleImputer\n",
    "imputer = SimpleImputer(strategy='most_frequent')\n",
    "X_imputed = imputer.fit_transform(X)\n",
    "\n",
    "# Разделение данных на обучающую и тестовую выборки\n",
    "X_train, X_test, y_train, y_test = train_test_split(X_imputed, y, test_size=0.3, random_state=42)\n",
    "\n",
    "# Стандартизация данных\n",
    "scaler = StandardScaler()\n",
    "X_train = scaler.fit_transform(X_train)\n",
    "X_test = scaler.transform(X_test)"
   ]
  },
  {
   "cell_type": "code",
   "execution_count": 8,
   "metadata": {},
   "outputs": [],
   "source": [
    "class SimpleNN(nn.Module):\n",
    "    def __init__(self):\n",
    "        super(SimpleNN, self).__init__()\n",
    "        self.fc1 = nn.Linear(X_train.shape[1], 400)\n",
    "        self.prelu1 = nn.PReLU()\n",
    "        self.dropout1 = nn.Dropout(0.3)\n",
    "\n",
    "        self.fc2 = nn.Linear(400, 160)\n",
    "        self.prelu2 = nn.PReLU()\n",
    "        self.bn2 = nn.BatchNorm1d(160)\n",
    "        self.dropout2 = nn.Dropout(0.3)\n",
    "\n",
    "        self.fc3 = nn.Linear(160, 64)\n",
    "        self.prelu3 = nn.PReLU()\n",
    "        self.bn3 = nn.BatchNorm1d(64)\n",
    "        self.dropout3 = nn.Dropout(0.3)\n",
    "\n",
    "        self.fc4 = nn.Linear(64, 26)\n",
    "        self.prelu4 = nn.PReLU()\n",
    "        self.bn4 = nn.BatchNorm1d(26)\n",
    "        self.dropout4 = nn.Dropout(0.3)\n",
    "\n",
    "        self.fc5 = nn.Linear(26, 12)\n",
    "        self.prelu5 = nn.PReLU()\n",
    "        self.bn5 = nn.BatchNorm1d(12)\n",
    "        self.dropout5 = nn.Dropout(0.3)\n",
    "\n",
    "        self.fc6 = nn.Linear(12, 1)\n",
    "\n",
    "    def forward(self, x):\n",
    "        x = self.dropout1(self.prelu1(self.fc1(x)))\n",
    "        x = self.dropout2(self.bn2(self.prelu2(self.fc2(x))))\n",
    "        x = self.dropout3(self.bn3(self.prelu3(self.fc3(x))))\n",
    "        x = self.dropout4(self.bn4(self.prelu4(self.fc4(x))))\n",
    "        x = self.dropout5(self.bn5(self.prelu5(self.fc5(x))))\n",
    "        x = torch.sigmoid(self.fc6(x))\n",
    "        return x"
   ]
  },
  {
   "cell_type": "code",
   "execution_count": 9,
   "metadata": {},
   "outputs": [
    {
     "name": "stdout",
     "output_type": "stream",
     "text": [
      "Divice is mps\n",
      "Epoch [1/30], Loss: 0.2951\n",
      "Epoch [2/30], Loss: 0.2122\n",
      "Epoch [3/30], Loss: 0.1557\n",
      "Epoch [4/30], Loss: 0.3950\n",
      "Epoch [5/30], Loss: 0.3897\n",
      "Epoch [6/30], Loss: 0.1395\n"
     ]
    }
   ],
   "source": [
    "# Создание DataLoader\n",
    "X_train_tensor = torch.FloatTensor(X_train)\n",
    "y_train_tensor = torch.FloatTensor(y_train).view(-1, 1) \n",
    "X_test_tensor = torch.FloatTensor(X_test)\n",
    "y_test_tensor = torch.FloatTensor(y_test).view(-1, 1)\n",
    "\n",
    "train_dataset = TensorDataset(X_train_tensor, y_train_tensor)\n",
    "train_loader = DataLoader(train_dataset, batch_size=32, shuffle=True)\n",
    "\n",
    "\n",
    "# Инициализация модели, функции потерь и оптимизатора\n",
    "model = SimpleNN()\n",
    "device = torch.device(\"mps\" if torch.backends.mps.is_available() else \"cpu\")\n",
    "print(f\"Divice is {device}\")\n",
    "model.to(device)\n",
    "\n",
    "criterion = nn.BCELoss()\n",
    "optimizer = optim.Adam(model.parameters(), lr=0.0002)\n",
    "\n",
    "# Обучение модели\n",
    "num_epochs = 30\n",
    "losses = [] \n",
    "\n",
    "for epoch in range(num_epochs):\n",
    "    model.train()\n",
    "    for inputs, labels in train_loader:\n",
    "        inputs, labels = inputs.to(device), labels.to(device)\n",
    "        optimizer.zero_grad() \n",
    "        outputs = model(inputs)  \n",
    "        loss = criterion(outputs, labels) \n",
    "        loss.backward()\n",
    "        optimizer.step()\n",
    "\n",
    "    losses.append(loss.item())\n",
    "    print(f'Epoch [{epoch+1}/{num_epochs}], Loss: {loss.item():.4f}')\n",
    "\n",
    "# Оценка модели\n",
    "model.eval()\n",
    "with torch.no_grad():\n",
    "    y_pred = model(X_test_tensor)\n",
    "    y_pred = (y_pred > 0.5).float()\n",
    "\n",
    "\n",
    "# Вывод значений потерь\n",
    "plt.plot(range(1, num_epochs + 1), losses, marker='o')\n",
    "plt.title('Loss over epochs')\n",
    "plt.xlabel('Epochs')\n",
    "plt.ylabel('Loss')\n",
    "plt.grid()\n",
    "plt.show()"
   ]
  },
  {
   "cell_type": "code",
   "execution_count": null,
   "metadata": {},
   "outputs": [],
   "source": []
  },
  {
   "cell_type": "markdown",
   "metadata": {},
   "source": [
    "Нейросеть не будем обучать в несколько итераций для проведения т-теста, так как это требует значительных вычислительных ресурсов и времени"
   ]
  },
  {
   "cell_type": "markdown",
   "metadata": {},
   "source": []
  }
 ],
 "metadata": {
  "kernelspec": {
   "display_name": "Python 3",
   "language": "python",
   "name": "python3"
  },
  "language_info": {
   "codemirror_mode": {
    "name": "ipython",
    "version": 3
   },
   "file_extension": ".py",
   "mimetype": "text/x-python",
   "name": "python",
   "nbconvert_exporter": "python",
   "pygments_lexer": "ipython3",
   "version": "3.9.6"
  }
 },
 "nbformat": 4,
 "nbformat_minor": 2
}
