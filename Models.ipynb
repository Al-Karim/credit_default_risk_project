{
 "cells": [
  {
   "cell_type": "markdown",
   "id": "0bb1cb9c",
   "metadata": {
    "execution": {
     "iopub.execute_input": "2024-10-11T12:59:02.728802Z",
     "iopub.status.busy": "2024-10-11T12:59:02.727421Z",
     "iopub.status.idle": "2024-10-11T12:59:02.734076Z",
     "shell.execute_reply": "2024-10-11T12:59:02.732809Z",
     "shell.execute_reply.started": "2024-10-11T12:59:02.728743Z"
    },
    "papermill": {
     "duration": 0.018946,
     "end_time": "2024-10-11T16:42:43.162644",
     "exception": false,
     "start_time": "2024-10-11T16:42:43.143698",
     "status": "completed"
    },
    "tags": []
   },
   "source": [
    "### Библиотеки"
   ]
  },
  {
   "cell_type": "code",
   "execution_count": 73,
   "id": "4e857d4b",
   "metadata": {
    "papermill": {
     "duration": 18.729641,
     "end_time": "2024-10-11T16:43:01.910284",
     "exception": false,
     "start_time": "2024-10-11T16:42:43.180643",
     "status": "completed"
    },
    "tags": []
   },
   "outputs": [],
   "source": [
    "import pandas as pd\n",
    "import numpy as np\n",
    "import gc\n",
    "import os\n",
    "import tensorflow as tf\n",
    "from sklearn.model_selection import train_test_split\n",
    "from sklearn.preprocessing import StandardScaler, LabelEncoder\n",
    "from sklearn.metrics import roc_auc_score\n",
    "from sklearn.linear_model import LogisticRegression\n",
    "from sklearn.ensemble import RandomForestClassifier\n",
    "from imblearn.over_sampling import SMOTE\n",
    "from collections import Counter\n",
    "import xgboost as xgb\n",
    "import matplotlib.pyplot as plt\n",
    "import seaborn as sns\n",
    "\n",
    "# Ignore warnings\n",
    "import warnings\n",
    "warnings.filterwarnings('ignore')\n",
    "pd.set_option('display.max_columns', None)\n",
    "pd.set_option('display.max_rows', None)\n",
    "pd.set_option('display.max_colwidth', None)"
   ]
  },
  {
   "cell_type": "markdown",
   "id": "2e66de66",
   "metadata": {
    "papermill": {
     "duration": 0.016676,
     "end_time": "2024-10-11T16:43:01.943556",
     "exception": false,
     "start_time": "2024-10-11T16:43:01.926880",
     "status": "completed"
    },
    "tags": []
   },
   "source": [
    "### Загрузка всех входных данных сразу и сохранение их в формате dict: data{}"
   ]
  },
  {
   "cell_type": "code",
   "execution_count": 61,
   "id": "e71ccfbb",
   "metadata": {
    "papermill": {
     "duration": 87.086742,
     "end_time": "2024-10-11T16:44:29.047300",
     "exception": false,
     "start_time": "2024-10-11T16:43:01.960558",
     "status": "completed"
    },
    "tags": []
   },
   "outputs": [
    {
     "name": "stdout",
     "output_type": "stream",
     "text": [
      "application_train shape: (307511, 122)\n",
      "application_test shape: (48744, 121)\n",
      "bureau shape: (1716428, 17)\n",
      "bureau_balance shape: (27299925, 3)\n",
      "previous_application shape: (1670214, 37)\n",
      "POS_CASH_balance shape: (10001358, 8)\n",
      "installments_payments shape: (13605401, 8)\n",
      "credit_card_balance shape: (3840312, 23)\n"
     ]
    }
   ],
   "source": [
    "\n",
    "files = {\n",
    "    \"application_train\": \"application_train.csv\",\n",
    "    \"application_test\": \"application_test.csv\",\n",
    "    \"bureau\": \"bureau.csv\",\n",
    "    \"bureau_balance\": \"bureau_balance.csv\",\n",
    "    \"previous_application\": \"previous_application.csv\",\n",
    "    \"POS_CASH_balance\": \"POS_CASH_balance.csv\",\n",
    "    \"installments_payments\": \"installments_payments.csv\",\n",
    "    \"credit_card_balance\": \"credit_card_balance.csv\"\n",
    "}\n",
    "\n",
    "# Load all files into a dictionary\n",
    "data = {}\n",
    "for key, file in files.items():\n",
    "    data[key] = pd.read_csv(file)\n",
    "    print(f\"{key} shape: {data[key].shape}\")"
   ]
  },
  {
   "cell_type": "markdown",
   "id": "40648a22",
   "metadata": {
    "papermill": {
     "duration": 0.016969,
     "end_time": "2024-10-11T16:44:29.081661",
     "exception": false,
     "start_time": "2024-10-11T16:44:29.064692",
     "status": "completed"
    },
    "tags": []
   },
   "source": [
    "### Проверка типов и соответствующих типов для всех наборов данных. У нас есть int, float и objects"
   ]
  },
  {
   "cell_type": "code",
   "execution_count": 62,
   "id": "a72d1de6",
   "metadata": {
    "papermill": {
     "duration": 0.054045,
     "end_time": "2024-10-11T16:44:29.152678",
     "exception": false,
     "start_time": "2024-10-11T16:44:29.098633",
     "status": "completed"
    },
    "tags": []
   },
   "outputs": [
    {
     "name": "stdout",
     "output_type": "stream",
     "text": [
      "\n",
      "Unique data types in application_train:\n",
      "float64    65\n",
      "int64      41\n",
      "object     16\n",
      "Name: count, dtype: int64\n",
      "\n",
      "Unique data types in application_test:\n",
      "float64    65\n",
      "int64      40\n",
      "object     16\n",
      "Name: count, dtype: int64\n",
      "\n",
      "Unique data types in bureau:\n",
      "float64    8\n",
      "int64      6\n",
      "object     3\n",
      "Name: count, dtype: int64\n",
      "\n",
      "Unique data types in bureau_balance:\n",
      "int64     2\n",
      "object    1\n",
      "Name: count, dtype: int64\n",
      "\n",
      "Unique data types in previous_application:\n",
      "object     16\n",
      "float64    15\n",
      "int64       6\n",
      "Name: count, dtype: int64\n",
      "\n",
      "Unique data types in POS_CASH_balance:\n",
      "int64      5\n",
      "float64    2\n",
      "object     1\n",
      "Name: count, dtype: int64\n",
      "\n",
      "Unique data types in installments_payments:\n",
      "float64    5\n",
      "int64      3\n",
      "Name: count, dtype: int64\n",
      "\n",
      "Unique data types in credit_card_balance:\n",
      "float64    15\n",
      "int64       7\n",
      "object      1\n",
      "Name: count, dtype: int64\n"
     ]
    }
   ],
   "source": [
    "# Function to print unique data types\n",
    "def print_dtypes(df, dataset_name):\n",
    "    print(f\"\\nUnique data types in {dataset_name}:\")\n",
    "    print(df.dtypes.value_counts())\n",
    "    \n",
    "# Find the data types present in all datasets\n",
    "for key in data.keys():\n",
    "    print_dtypes(data[key], key)"
   ]
  },
  {
   "cell_type": "markdown",
   "id": "f1674782",
   "metadata": {
    "papermill": {
     "duration": 0.017527,
     "end_time": "2024-10-11T16:44:29.188391",
     "exception": false,
     "start_time": "2024-10-11T16:44:29.170864",
     "status": "completed"
    },
    "tags": []
   },
   "source": [
    "Давайте посмотрим на типы объектов в данных application_train. Мы видим, что CODE_GENDER и ORGANIZATION TYPE интересны.\n",
    " Почему? Потому что CODE_GENDER имеет 3 значения, а ORGANIZATION_TYPE - 58 значений.\n",
    "  После одной горячей кодировки ORGANIZATION_TYPE номера наших столбцов увеличатся"
   ]
  },
  {
   "cell_type": "code",
   "execution_count": 63,
   "id": "f669a6ed",
   "metadata": {
    "papermill": {
     "duration": 0.361033,
     "end_time": "2024-10-11T16:44:29.568031",
     "exception": false,
     "start_time": "2024-10-11T16:44:29.206998",
     "status": "completed"
    },
    "tags": []
   },
   "outputs": [
    {
     "data": {
      "text/plain": [
       "NAME_CONTRACT_TYPE             2\n",
       "CODE_GENDER                    3\n",
       "FLAG_OWN_CAR                   2\n",
       "FLAG_OWN_REALTY                2\n",
       "NAME_TYPE_SUITE                7\n",
       "NAME_INCOME_TYPE               8\n",
       "NAME_EDUCATION_TYPE            5\n",
       "NAME_FAMILY_STATUS             6\n",
       "NAME_HOUSING_TYPE              6\n",
       "OCCUPATION_TYPE               18\n",
       "WEEKDAY_APPR_PROCESS_START     7\n",
       "ORGANIZATION_TYPE             58\n",
       "FONDKAPREMONT_MODE             4\n",
       "HOUSETYPE_MODE                 3\n",
       "WALLSMATERIAL_MODE             7\n",
       "EMERGENCYSTATE_MODE            2\n",
       "dtype: int64"
      ]
     },
     "execution_count": 63,
     "metadata": {},
     "output_type": "execute_result"
    }
   ],
   "source": [
    "data['application_train'].select_dtypes('object').apply(pd.Series.nunique, axis = 0)"
   ]
  },
  {
   "cell_type": "code",
   "execution_count": 64,
   "id": "dcbfa751",
   "metadata": {
    "papermill": {
     "duration": 0.047255,
     "end_time": "2024-10-11T16:44:29.632810",
     "exception": false,
     "start_time": "2024-10-11T16:44:29.585555",
     "status": "completed"
    },
    "tags": []
   },
   "outputs": [
    {
     "data": {
      "text/plain": [
       "array(['M', 'F', 'XNA'], dtype=object)"
      ]
     },
     "execution_count": 64,
     "metadata": {},
     "output_type": "execute_result"
    }
   ],
   "source": [
    "# Check unique Gender Type\n",
    "data['application_train']['CODE_GENDER'].unique()"
   ]
  },
  {
   "cell_type": "code",
   "execution_count": 65,
   "id": "250db480",
   "metadata": {
    "papermill": {
     "duration": 0.286618,
     "end_time": "2024-10-11T16:44:29.937432",
     "exception": false,
     "start_time": "2024-10-11T16:44:29.650814",
     "status": "completed"
    },
    "tags": []
   },
   "outputs": [],
   "source": [
    "# Select CODE GENDER not equals XNA\n",
    "data['application_train'] = data['application_train'][data['application_train']['CODE_GENDER'] != 'XNA']\n",
    "data['application_test'] = data['application_test'][data['application_test']['CODE_GENDER'] != 'XNA']"
   ]
  },
  {
   "cell_type": "code",
   "execution_count": 66,
   "id": "65bb69e0",
   "metadata": {
    "papermill": {
     "duration": 0.052032,
     "end_time": "2024-10-11T16:44:30.007184",
     "exception": false,
     "start_time": "2024-10-11T16:44:29.955152",
     "status": "completed"
    },
    "tags": []
   },
   "outputs": [
    {
     "data": {
      "text/plain": [
       "array(['Business Entity Type 3', 'School', 'Government', 'Religion',\n",
       "       'Other', 'XNA', 'Electricity', 'Medicine',\n",
       "       'Business Entity Type 2', 'Self-employed', 'Transport: type 2',\n",
       "       'Construction', 'Housing', 'Kindergarten', 'Trade: type 7',\n",
       "       'Industry: type 11', 'Military', 'Services', 'Security Ministries',\n",
       "       'Transport: type 4', 'Industry: type 1', 'Emergency', 'Security',\n",
       "       'Trade: type 2', 'University', 'Transport: type 3', 'Police',\n",
       "       'Business Entity Type 1', 'Postal', 'Industry: type 4',\n",
       "       'Agriculture', 'Restaurant', 'Culture', 'Hotel',\n",
       "       'Industry: type 7', 'Trade: type 3', 'Industry: type 3', 'Bank',\n",
       "       'Industry: type 9', 'Insurance', 'Trade: type 6',\n",
       "       'Industry: type 2', 'Transport: type 1', 'Industry: type 12',\n",
       "       'Mobile', 'Trade: type 1', 'Industry: type 5', 'Industry: type 10',\n",
       "       'Legal Services', 'Advertising', 'Trade: type 5', 'Cleaning',\n",
       "       'Industry: type 13', 'Trade: type 4', 'Telecom',\n",
       "       'Industry: type 8', 'Realtor', 'Industry: type 6'], dtype=object)"
      ]
     },
     "execution_count": 66,
     "metadata": {},
     "output_type": "execute_result"
    }
   ],
   "source": [
    "# Check unique Organization Types\n",
    "data['application_train']['ORGANIZATION_TYPE'].unique()"
   ]
  },
  {
   "cell_type": "markdown",
   "id": "37d99483",
   "metadata": {
    "papermill": {
     "duration": 0.017812,
     "end_time": "2024-10-11T16:44:30.042464",
     "exception": false,
     "start_time": "2024-10-11T16:44:30.024652",
     "status": "completed"
    },
    "tags": []
   },
   "source": [
    "Давайте посмотрим на корреляцию ORGANIZATION_TYPE с TARGET. \n",
    "Мы видим, что она имеет меньшую корреляцию с TARGET, но мы не знаем, можно ли считать эту корреляцию менее значимой на данный момент. \n",
    "Поэтому давайте сохраним ее."
   ]
  },
  {
   "cell_type": "code",
   "execution_count": 67,
   "id": "448f98da",
   "metadata": {
    "papermill": {
     "duration": 2.873346,
     "end_time": "2024-10-11T16:44:32.935103",
     "exception": false,
     "start_time": "2024-10-11T16:44:30.061757",
     "status": "completed"
    },
    "tags": []
   },
   "outputs": [
    {
     "name": "stdout",
     "output_type": "stream",
     "text": [
      "Correlations with TARGET:\n",
      "ORGANIZATION_TYPE_XNA                      -0.045989\n",
      "ORGANIZATION_TYPE_School                   -0.013672\n",
      "ORGANIZATION_TYPE_Medicine                 -0.010615\n",
      "ORGANIZATION_TYPE_Military                 -0.010058\n",
      "ORGANIZATION_TYPE_Police                   -0.009887\n",
      "ORGANIZATION_TYPE_Bank                     -0.009610\n",
      "ORGANIZATION_TYPE_Security Ministries      -0.009471\n",
      "ORGANIZATION_TYPE_University               -0.007672\n",
      "ORGANIZATION_TYPE_Government               -0.007521\n",
      "ORGANIZATION_TYPE_Trade: type 6            -0.005788\n",
      "ORGANIZATION_TYPE_Kindergarten             -0.005759\n",
      "ORGANIZATION_TYPE_Industry: type 12        -0.005444\n",
      "ORGANIZATION_TYPE_Industry: type 9         -0.005379\n",
      "ORGANIZATION_TYPE_Services                 -0.003871\n",
      "ORGANIZATION_TYPE_Insurance                -0.003850\n",
      "ORGANIZATION_TYPE_Other                    -0.003785\n",
      "ORGANIZATION_TYPE_Hotel                    -0.003410\n",
      "ORGANIZATION_TYPE_Transport: type 1        -0.003375\n",
      "ORGANIZATION_TYPE_Culture                  -0.003265\n",
      "ORGANIZATION_TYPE_Trade: type 2            -0.003106\n",
      "ORGANIZATION_TYPE_Electricity              -0.002945\n",
      "ORGANIZATION_TYPE_Trade: type 4            -0.002621\n",
      "ORGANIZATION_TYPE_Industry: type 5         -0.001992\n",
      "ORGANIZATION_TYPE_Emergency                -0.001458\n",
      "ORGANIZATION_TYPE_Religion                 -0.001337\n",
      "ORGANIZATION_TYPE_Industry: type 2         -0.001230\n",
      "ORGANIZATION_TYPE_Industry: type 10        -0.001141\n",
      "ORGANIZATION_TYPE_Trade: type 5            -0.000904\n",
      "ORGANIZATION_TYPE_Transport: type 2        -0.000839\n",
      "ORGANIZATION_TYPE_Telecom                  -0.000712\n",
      "ORGANIZATION_TYPE_Industry: type 6         -0.000652\n",
      "ORGANIZATION_TYPE_Housing                  -0.000465\n",
      "ORGANIZATION_TYPE_Legal Services           -0.000236\n",
      "ORGANIZATION_TYPE_Industry: type 7         -0.000094\n",
      "ORGANIZATION_TYPE_Business Entity Type 1    0.000345\n",
      "ORGANIZATION_TYPE_Trade: type 1             0.001032\n",
      "ORGANIZATION_TYPE_Postal                    0.001125\n",
      "ORGANIZATION_TYPE_Mobile                    0.001268\n",
      "ORGANIZATION_TYPE_Industry: type 8          0.001436\n",
      "ORGANIZATION_TYPE_Industry: type 11         0.002008\n",
      "ORGANIZATION_TYPE_Industry: type 13         0.002904\n",
      "ORGANIZATION_TYPE_Business Entity Type 2    0.003151\n",
      "ORGANIZATION_TYPE_Cleaning                  0.003290\n",
      "ORGANIZATION_TYPE_Realtor                   0.003339\n",
      "ORGANIZATION_TYPE_Industry: type 4          0.004074\n",
      "ORGANIZATION_TYPE_Transport: type 4         0.005929\n",
      "ORGANIZATION_TYPE_Industry: type 1          0.006402\n",
      "ORGANIZATION_TYPE_Security                  0.007226\n",
      "ORGANIZATION_TYPE_Agriculture               0.007901\n",
      "ORGANIZATION_TYPE_Trade: type 7             0.008169\n",
      "ORGANIZATION_TYPE_Trade: type 3             0.008911\n",
      "ORGANIZATION_TYPE_Industry: type 3          0.009702\n",
      "ORGANIZATION_TYPE_Restaurant                0.010265\n",
      "ORGANIZATION_TYPE_Transport: type 3         0.017552\n",
      "ORGANIZATION_TYPE_Construction              0.019791\n",
      "ORGANIZATION_TYPE_Business Entity Type 3    0.023991\n",
      "ORGANIZATION_TYPE_Self-employed             0.029137\n",
      "TARGET                                      1.000000\n",
      "Name: TARGET, dtype: float64\n"
     ]
    }
   ],
   "source": [
    "# Check the correlation of ORGANIZATION TYPE ON TARGET)\n",
    "# Extract the relevant columns\n",
    "ext_data = data['application_train'][['TARGET', 'ORGANIZATION_TYPE']]\n",
    "ext_data_encoded = pd.get_dummies(ext_data, columns=['ORGANIZATION_TYPE'], drop_first=True)\n",
    "\n",
    "# Calculate correlations\n",
    "ext_data_corrs = ext_data_encoded.corr()\n",
    "\n",
    "# Display the correlation of the new features with the target\n",
    "target_corr = ext_data_corrs['TARGET'].sort_values()\n",
    "\n",
    "# Show the correlations with the target\n",
    "print(\"Correlations with TARGET:\")\n",
    "print(target_corr)"
   ]
  },
  {
   "cell_type": "markdown",
   "id": "c0002e13",
   "metadata": {
    "papermill": {
     "duration": 0.017845,
     "end_time": "2024-10-11T16:44:32.970689",
     "exception": false,
     "start_time": "2024-10-11T16:44:32.952844",
     "status": "completed"
    },
    "tags": []
   },
   "source": [
    "EDA В DAYS_EMPLOYED данных application_train и test"
   ]
  },
  {
   "cell_type": "markdown",
   "id": "3b084fe1",
   "metadata": {
    "papermill": {
     "duration": 0.017537,
     "end_time": "2024-10-11T16:44:33.076491",
     "exception": false,
     "start_time": "2024-10-11T16:44:33.058954",
     "status": "completed"
    },
    "tags": []
   },
   "source": [
    "Мы видим, что 365 243 - это максимальный рабочий день, что невозможно, поэтому замените его на NaN"
   ]
  },
  {
   "cell_type": "code",
   "execution_count": 68,
   "id": "ef4bb8ff",
   "metadata": {
    "papermill": {
     "duration": 0.032682,
     "end_time": "2024-10-11T16:44:33.127214",
     "exception": false,
     "start_time": "2024-10-11T16:44:33.094532",
     "status": "completed"
    },
    "tags": []
   },
   "outputs": [],
   "source": [
    "# max value was 365243 which is not possible. Hence replace with NaN\n",
    "data['application_train']['DAYS_EMPLOYED'].replace(365243, np.nan, inplace= True)\n",
    "data['application_test']['DAYS_EMPLOYED'].replace(365243, np.nan, inplace= True)"
   ]
  },
  {
   "cell_type": "markdown",
   "id": "d945bd2f",
   "metadata": {
    "papermill": {
     "duration": 0.019537,
     "end_time": "2024-10-11T16:44:33.164975",
     "exception": false,
     "start_time": "2024-10-11T16:44:33.145438",
     "status": "completed"
    },
    "tags": []
   },
   "source": [
    "### Check for missing values"
   ]
  },
  {
   "cell_type": "code",
   "execution_count": 69,
   "id": "186951c7",
   "metadata": {
    "papermill": {
     "duration": 4.279602,
     "end_time": "2024-10-11T16:44:37.462847",
     "exception": false,
     "start_time": "2024-10-11T16:44:33.183245",
     "status": "completed"
    },
    "tags": []
   },
   "outputs": [
    {
     "name": "stdout",
     "output_type": "stream",
     "text": [
      "\n",
      "Missing values in application_train:\n",
      "COMMONAREA_MODE                 214862\n",
      "COMMONAREA_AVG                  214862\n",
      "COMMONAREA_MEDI                 214862\n",
      "NONLIVINGAPARTMENTS_MEDI        213512\n",
      "NONLIVINGAPARTMENTS_MODE        213512\n",
      "NONLIVINGAPARTMENTS_AVG         213512\n",
      "FONDKAPREMONT_MODE              210293\n",
      "LIVINGAPARTMENTS_MEDI           210197\n",
      "LIVINGAPARTMENTS_AVG            210197\n",
      "LIVINGAPARTMENTS_MODE           210197\n",
      "FLOORSMIN_AVG                   208640\n",
      "FLOORSMIN_MEDI                  208640\n",
      "FLOORSMIN_MODE                  208640\n",
      "YEARS_BUILD_MEDI                204486\n",
      "YEARS_BUILD_MODE                204486\n",
      "YEARS_BUILD_AVG                 204486\n",
      "OWN_CAR_AGE                     202927\n",
      "LANDAREA_MODE                   182588\n",
      "LANDAREA_MEDI                   182588\n",
      "LANDAREA_AVG                    182588\n",
      "BASEMENTAREA_MEDI               179942\n",
      "BASEMENTAREA_MODE               179942\n",
      "BASEMENTAREA_AVG                179942\n",
      "EXT_SOURCE_1                    173376\n",
      "NONLIVINGAREA_AVG               169680\n",
      "NONLIVINGAREA_MEDI              169680\n",
      "NONLIVINGAREA_MODE              169680\n",
      "ELEVATORS_AVG                   163890\n",
      "ELEVATORS_MODE                  163890\n",
      "ELEVATORS_MEDI                  163890\n",
      "WALLSMATERIAL_MODE              156340\n",
      "APARTMENTS_MEDI                 156060\n",
      "APARTMENTS_AVG                  156060\n",
      "APARTMENTS_MODE                 156060\n",
      "ENTRANCES_MODE                  154827\n",
      "ENTRANCES_AVG                   154827\n",
      "ENTRANCES_MEDI                  154827\n",
      "LIVINGAREA_AVG                  154349\n",
      "LIVINGAREA_MODE                 154349\n",
      "LIVINGAREA_MEDI                 154349\n",
      "HOUSETYPE_MODE                  154296\n",
      "FLOORSMAX_MODE                  153019\n",
      "FLOORSMAX_AVG                   153019\n",
      "FLOORSMAX_MEDI                  153019\n",
      "YEARS_BEGINEXPLUATATION_MEDI    150006\n",
      "YEARS_BEGINEXPLUATATION_MODE    150006\n",
      "YEARS_BEGINEXPLUATATION_AVG     150006\n",
      "TOTALAREA_MODE                  148430\n",
      "EMERGENCYSTATE_MODE             145754\n",
      "OCCUPATION_TYPE                  96389\n",
      "EXT_SOURCE_3                     60965\n",
      "DAYS_EMPLOYED                    55374\n",
      "AMT_REQ_CREDIT_BUREAU_DAY        41519\n",
      "AMT_REQ_CREDIT_BUREAU_WEEK       41519\n",
      "AMT_REQ_CREDIT_BUREAU_HOUR       41519\n",
      "AMT_REQ_CREDIT_BUREAU_QRT        41519\n",
      "AMT_REQ_CREDIT_BUREAU_MON        41519\n",
      "AMT_REQ_CREDIT_BUREAU_YEAR       41519\n",
      "NAME_TYPE_SUITE                   1292\n",
      "DEF_30_CNT_SOCIAL_CIRCLE          1021\n",
      "OBS_60_CNT_SOCIAL_CIRCLE          1021\n",
      "DEF_60_CNT_SOCIAL_CIRCLE          1021\n",
      "OBS_30_CNT_SOCIAL_CIRCLE          1021\n",
      "EXT_SOURCE_2                       660\n",
      "AMT_GOODS_PRICE                    278\n",
      "AMT_ANNUITY                         12\n",
      "CNT_FAM_MEMBERS                      2\n",
      "DAYS_LAST_PHONE_CHANGE               1\n",
      "dtype: int64\n",
      "\n",
      "Missing values in application_test:\n",
      "COMMONAREA_MEDI                 33495\n",
      "COMMONAREA_MODE                 33495\n",
      "COMMONAREA_AVG                  33495\n",
      "NONLIVINGAPARTMENTS_MODE        33347\n",
      "NONLIVINGAPARTMENTS_AVG         33347\n",
      "NONLIVINGAPARTMENTS_MEDI        33347\n",
      "FONDKAPREMONT_MODE              32797\n",
      "LIVINGAPARTMENTS_MEDI           32780\n",
      "LIVINGAPARTMENTS_AVG            32780\n",
      "LIVINGAPARTMENTS_MODE           32780\n",
      "FLOORSMIN_MEDI                  32466\n",
      "FLOORSMIN_AVG                   32466\n",
      "FLOORSMIN_MODE                  32466\n",
      "OWN_CAR_AGE                     32312\n",
      "YEARS_BUILD_AVG                 31818\n",
      "YEARS_BUILD_MEDI                31818\n",
      "YEARS_BUILD_MODE                31818\n",
      "LANDAREA_AVG                    28254\n",
      "LANDAREA_MODE                   28254\n",
      "LANDAREA_MEDI                   28254\n",
      "BASEMENTAREA_MEDI               27641\n",
      "BASEMENTAREA_MODE               27641\n",
      "BASEMENTAREA_AVG                27641\n",
      "NONLIVINGAREA_AVG               26084\n",
      "NONLIVINGAREA_MEDI              26084\n",
      "NONLIVINGAREA_MODE              26084\n",
      "ELEVATORS_MEDI                  25189\n",
      "ELEVATORS_MODE                  25189\n",
      "ELEVATORS_AVG                   25189\n",
      "WALLSMATERIAL_MODE              23893\n",
      "APARTMENTS_AVG                  23887\n",
      "APARTMENTS_MEDI                 23887\n",
      "APARTMENTS_MODE                 23887\n",
      "HOUSETYPE_MODE                  23619\n",
      "ENTRANCES_MEDI                  23579\n",
      "ENTRANCES_MODE                  23579\n",
      "ENTRANCES_AVG                   23579\n",
      "LIVINGAREA_MODE                 23552\n",
      "LIVINGAREA_MEDI                 23552\n",
      "LIVINGAREA_AVG                  23552\n",
      "FLOORSMAX_MEDI                  23321\n",
      "FLOORSMAX_MODE                  23321\n",
      "FLOORSMAX_AVG                   23321\n",
      "YEARS_BEGINEXPLUATATION_AVG     22856\n",
      "YEARS_BEGINEXPLUATATION_MODE    22856\n",
      "YEARS_BEGINEXPLUATATION_MEDI    22856\n",
      "TOTALAREA_MODE                  22624\n",
      "EMERGENCYSTATE_MODE             22209\n",
      "EXT_SOURCE_1                    20532\n",
      "OCCUPATION_TYPE                 15605\n",
      "DAYS_EMPLOYED                    9274\n",
      "EXT_SOURCE_3                     8668\n",
      "AMT_REQ_CREDIT_BUREAU_HOUR       6049\n",
      "AMT_REQ_CREDIT_BUREAU_MON        6049\n",
      "AMT_REQ_CREDIT_BUREAU_QRT        6049\n",
      "AMT_REQ_CREDIT_BUREAU_WEEK       6049\n",
      "AMT_REQ_CREDIT_BUREAU_DAY        6049\n",
      "AMT_REQ_CREDIT_BUREAU_YEAR       6049\n",
      "NAME_TYPE_SUITE                   911\n",
      "DEF_60_CNT_SOCIAL_CIRCLE           29\n",
      "OBS_60_CNT_SOCIAL_CIRCLE           29\n",
      "DEF_30_CNT_SOCIAL_CIRCLE           29\n",
      "OBS_30_CNT_SOCIAL_CIRCLE           29\n",
      "AMT_ANNUITY                        24\n",
      "EXT_SOURCE_2                        8\n",
      "dtype: int64\n",
      "\n",
      "Missing values in bureau:\n",
      "AMT_ANNUITY               1226791\n",
      "AMT_CREDIT_MAX_OVERDUE    1124488\n",
      "DAYS_ENDDATE_FACT          633653\n",
      "AMT_CREDIT_SUM_LIMIT       591780\n",
      "AMT_CREDIT_SUM_DEBT        257669\n",
      "DAYS_CREDIT_ENDDATE        105553\n",
      "AMT_CREDIT_SUM                 13\n",
      "dtype: int64\n",
      "\n",
      "No missing values in bureau_balance.\n",
      "\n",
      "Missing values in previous_application:\n",
      "RATE_INTEREST_PRIMARY        1664263\n",
      "RATE_INTEREST_PRIVILEGED     1664263\n",
      "AMT_DOWN_PAYMENT              895844\n",
      "RATE_DOWN_PAYMENT             895844\n",
      "NAME_TYPE_SUITE               820405\n",
      "DAYS_FIRST_DRAWING            673065\n",
      "DAYS_FIRST_DUE                673065\n",
      "DAYS_LAST_DUE_1ST_VERSION     673065\n",
      "DAYS_LAST_DUE                 673065\n",
      "DAYS_TERMINATION              673065\n",
      "NFLAG_INSURED_ON_APPROVAL     673065\n",
      "AMT_GOODS_PRICE               385515\n",
      "AMT_ANNUITY                   372235\n",
      "CNT_PAYMENT                   372230\n",
      "PRODUCT_COMBINATION              346\n",
      "AMT_CREDIT                         1\n",
      "dtype: int64\n",
      "\n",
      "Missing values in POS_CASH_balance:\n",
      "CNT_INSTALMENT_FUTURE    26087\n",
      "CNT_INSTALMENT           26071\n",
      "dtype: int64\n",
      "\n",
      "Missing values in installments_payments:\n",
      "DAYS_ENTRY_PAYMENT    2905\n",
      "AMT_PAYMENT           2905\n",
      "dtype: int64\n",
      "\n",
      "Missing values in credit_card_balance:\n",
      "AMT_PAYMENT_CURRENT           767988\n",
      "AMT_DRAWINGS_ATM_CURRENT      749816\n",
      "AMT_DRAWINGS_OTHER_CURRENT    749816\n",
      "AMT_DRAWINGS_POS_CURRENT      749816\n",
      "CNT_DRAWINGS_ATM_CURRENT      749816\n",
      "CNT_DRAWINGS_OTHER_CURRENT    749816\n",
      "CNT_DRAWINGS_POS_CURRENT      749816\n",
      "AMT_INST_MIN_REGULARITY       305236\n",
      "CNT_INSTALMENT_MATURE_CUM     305236\n",
      "dtype: int64\n"
     ]
    }
   ],
   "source": [
    "# Function to check for missing values\n",
    "def check_missing_values(df, dataset_name):\n",
    "    missing_values = df.isnull().sum()\n",
    "    missing_columns = missing_values[missing_values > 0].sort_values(ascending=False)  # Only show columns with missing values\n",
    "    if not missing_columns.empty:\n",
    "        print(f\"\\nMissing values in {dataset_name}:\\n{missing_columns}\")\n",
    "    else:\n",
    "        print(f\"\\nNo missing values in {dataset_name}.\")\n",
    "        \n",
    "# Find the data types present in all datasets\n",
    "for key in data.keys():\n",
    "    check_missing_values(data[key], key)"
   ]
  },
  {
   "cell_type": "markdown",
   "id": "fd9e520f",
   "metadata": {
    "papermill": {
     "duration": 0.018136,
     "end_time": "2024-10-11T16:44:37.499773",
     "exception": false,
     "start_time": "2024-10-11T16:44:37.481637",
     "status": "completed"
    },
    "tags": []
   },
   "source": [
    "Мы обнаружили, что в наборах данных отсутствует множество значений. Давайте проверим процентные соотношения"
   ]
  },
  {
   "cell_type": "code",
   "execution_count": 70,
   "id": "b359b91e",
   "metadata": {
    "papermill": {
     "duration": 4.115257,
     "end_time": "2024-10-11T16:44:41.634225",
     "exception": false,
     "start_time": "2024-10-11T16:44:37.518968",
     "status": "completed"
    },
    "tags": []
   },
   "outputs": [
    {
     "name": "stdout",
     "output_type": "stream",
     "text": [
      "\n",
      "Missing value percentages in application_train:\n",
      "COMMONAREA_MODE                 69.872231\n",
      "COMMONAREA_AVG                  69.872231\n",
      "COMMONAREA_MEDI                 69.872231\n",
      "NONLIVINGAPARTMENTS_MEDI        69.433216\n",
      "NONLIVINGAPARTMENTS_MODE        69.433216\n",
      "NONLIVINGAPARTMENTS_AVG         69.433216\n",
      "FONDKAPREMONT_MODE              68.386411\n",
      "LIVINGAPARTMENTS_MEDI           68.355192\n",
      "LIVINGAPARTMENTS_AVG            68.355192\n",
      "LIVINGAPARTMENTS_MODE           68.355192\n",
      "FLOORSMIN_AVG                   67.848862\n",
      "FLOORSMIN_MEDI                  67.848862\n",
      "FLOORSMIN_MODE                  67.848862\n",
      "YEARS_BUILD_MEDI                66.497998\n",
      "YEARS_BUILD_MODE                66.497998\n",
      "YEARS_BUILD_AVG                 66.497998\n",
      "OWN_CAR_AGE                     65.991018\n",
      "LANDAREA_MODE                   59.376860\n",
      "LANDAREA_MEDI                   59.376860\n",
      "LANDAREA_AVG                    59.376860\n",
      "BASEMENTAREA_MEDI               58.516391\n",
      "BASEMENTAREA_MODE               58.516391\n",
      "BASEMENTAREA_AVG                58.516391\n",
      "EXT_SOURCE_1                    56.381156\n",
      "NONLIVINGAREA_AVG               55.179232\n",
      "NONLIVINGAREA_MEDI              55.179232\n",
      "NONLIVINGAREA_MODE              55.179232\n",
      "ELEVATORS_AVG                   53.296348\n",
      "ELEVATORS_MODE                  53.296348\n",
      "ELEVATORS_MEDI                  53.296348\n",
      "WALLSMATERIAL_MODE              50.841119\n",
      "APARTMENTS_MEDI                 50.750064\n",
      "APARTMENTS_AVG                  50.750064\n",
      "APARTMENTS_MODE                 50.750064\n",
      "ENTRANCES_MODE                  50.349098\n",
      "ENTRANCES_AVG                   50.349098\n",
      "ENTRANCES_MEDI                  50.349098\n",
      "LIVINGAREA_AVG                  50.193654\n",
      "LIVINGAREA_MODE                 50.193654\n",
      "LIVINGAREA_MEDI                 50.193654\n",
      "HOUSETYPE_MODE                  50.176419\n",
      "FLOORSMAX_MODE                  49.761144\n",
      "FLOORSMAX_AVG                   49.761144\n",
      "FLOORSMAX_MEDI                  49.761144\n",
      "YEARS_BEGINEXPLUATATION_MEDI    48.781329\n",
      "YEARS_BEGINEXPLUATATION_MODE    48.781329\n",
      "YEARS_BEGINEXPLUATATION_AVG     48.781329\n",
      "TOTALAREA_MODE                  48.268820\n",
      "EMERGENCYSTATE_MODE             47.398596\n",
      "OCCUPATION_TYPE                 31.345303\n",
      "EXT_SOURCE_3                    19.825565\n",
      "DAYS_EMPLOYED                   18.007395\n",
      "AMT_REQ_CREDIT_BUREAU_DAY       13.501806\n",
      "AMT_REQ_CREDIT_BUREAU_WEEK      13.501806\n",
      "AMT_REQ_CREDIT_BUREAU_HOUR      13.501806\n",
      "AMT_REQ_CREDIT_BUREAU_QRT       13.501806\n",
      "AMT_REQ_CREDIT_BUREAU_MON       13.501806\n",
      "AMT_REQ_CREDIT_BUREAU_YEAR      13.501806\n",
      "NAME_TYPE_SUITE                  0.420153\n",
      "DEF_30_CNT_SOCIAL_CIRCLE         0.332025\n",
      "OBS_60_CNT_SOCIAL_CIRCLE         0.332025\n",
      "DEF_60_CNT_SOCIAL_CIRCLE         0.332025\n",
      "OBS_30_CNT_SOCIAL_CIRCLE         0.332025\n",
      "EXT_SOURCE_2                     0.214629\n",
      "AMT_GOODS_PRICE                  0.090404\n",
      "AMT_ANNUITY                      0.003902\n",
      "CNT_FAM_MEMBERS                  0.000650\n",
      "DAYS_LAST_PHONE_CHANGE           0.000325\n",
      "dtype: float64\n",
      "\n",
      "Missing value percentages in application_test:\n",
      "COMMONAREA_MEDI                 68.716150\n",
      "COMMONAREA_MODE                 68.716150\n",
      "COMMONAREA_AVG                  68.716150\n",
      "NONLIVINGAPARTMENTS_MODE        68.412523\n",
      "NONLIVINGAPARTMENTS_AVG         68.412523\n",
      "NONLIVINGAPARTMENTS_MEDI        68.412523\n",
      "FONDKAPREMONT_MODE              67.284179\n",
      "LIVINGAPARTMENTS_MEDI           67.249302\n",
      "LIVINGAPARTMENTS_AVG            67.249302\n",
      "LIVINGAPARTMENTS_MODE           67.249302\n",
      "FLOORSMIN_MEDI                  66.605121\n",
      "FLOORSMIN_AVG                   66.605121\n",
      "FLOORSMIN_MODE                  66.605121\n",
      "OWN_CAR_AGE                     66.289184\n",
      "YEARS_BUILD_AVG                 65.275726\n",
      "YEARS_BUILD_MEDI                65.275726\n",
      "YEARS_BUILD_MODE                65.275726\n",
      "LANDAREA_AVG                    57.964057\n",
      "LANDAREA_MODE                   57.964057\n",
      "LANDAREA_MEDI                   57.964057\n",
      "BASEMENTAREA_MEDI               56.706466\n",
      "BASEMENTAREA_MODE               56.706466\n",
      "BASEMENTAREA_AVG                56.706466\n",
      "NONLIVINGAREA_AVG               53.512227\n",
      "NONLIVINGAREA_MEDI              53.512227\n",
      "NONLIVINGAREA_MODE              53.512227\n",
      "ELEVATORS_MEDI                  51.676104\n",
      "ELEVATORS_MODE                  51.676104\n",
      "ELEVATORS_AVG                   51.676104\n",
      "WALLSMATERIAL_MODE              49.017315\n",
      "APARTMENTS_AVG                  49.005006\n",
      "APARTMENTS_MEDI                 49.005006\n",
      "APARTMENTS_MODE                 49.005006\n",
      "HOUSETYPE_MODE                  48.455194\n",
      "ENTRANCES_MEDI                  48.373133\n",
      "ENTRANCES_MODE                  48.373133\n",
      "ENTRANCES_AVG                   48.373133\n",
      "LIVINGAREA_MODE                 48.317742\n",
      "LIVINGAREA_MEDI                 48.317742\n",
      "LIVINGAREA_AVG                  48.317742\n",
      "FLOORSMAX_MEDI                  47.843837\n",
      "FLOORSMAX_MODE                  47.843837\n",
      "FLOORSMAX_AVG                   47.843837\n",
      "YEARS_BEGINEXPLUATATION_AVG     46.889874\n",
      "YEARS_BEGINEXPLUATATION_MODE    46.889874\n",
      "YEARS_BEGINEXPLUATATION_MEDI    46.889874\n",
      "TOTALAREA_MODE                  46.413918\n",
      "EMERGENCYSTATE_MODE             45.562531\n",
      "EXT_SOURCE_1                    42.122107\n",
      "OCCUPATION_TYPE                 32.014197\n",
      "DAYS_EMPLOYED                   19.025931\n",
      "EXT_SOURCE_3                    17.782701\n",
      "AMT_REQ_CREDIT_BUREAU_HOUR      12.409732\n",
      "AMT_REQ_CREDIT_BUREAU_MON       12.409732\n",
      "AMT_REQ_CREDIT_BUREAU_QRT       12.409732\n",
      "AMT_REQ_CREDIT_BUREAU_WEEK      12.409732\n",
      "AMT_REQ_CREDIT_BUREAU_DAY       12.409732\n",
      "AMT_REQ_CREDIT_BUREAU_YEAR      12.409732\n",
      "NAME_TYPE_SUITE                  1.868948\n",
      "DEF_60_CNT_SOCIAL_CIRCLE         0.059495\n",
      "OBS_60_CNT_SOCIAL_CIRCLE         0.059495\n",
      "DEF_30_CNT_SOCIAL_CIRCLE         0.059495\n",
      "OBS_30_CNT_SOCIAL_CIRCLE         0.059495\n",
      "AMT_ANNUITY                      0.049237\n",
      "EXT_SOURCE_2                     0.016412\n",
      "dtype: float64\n",
      "\n",
      "Missing value percentages in bureau:\n",
      "AMT_ANNUITY               71.473490\n",
      "AMT_CREDIT_MAX_OVERDUE    65.513264\n",
      "DAYS_ENDDATE_FACT         36.916958\n",
      "AMT_CREDIT_SUM_LIMIT      34.477415\n",
      "AMT_CREDIT_SUM_DEBT       15.011932\n",
      "DAYS_CREDIT_ENDDATE        6.149573\n",
      "AMT_CREDIT_SUM             0.000757\n",
      "dtype: float64\n",
      "\n",
      "Missing value percentages in bureau_balance:\n",
      "Series([], dtype: float64)\n",
      "\n",
      "Missing value percentages in previous_application:\n",
      "RATE_INTEREST_PRIMARY        99.643698\n",
      "RATE_INTEREST_PRIVILEGED     99.643698\n",
      "AMT_DOWN_PAYMENT             53.636480\n",
      "RATE_DOWN_PAYMENT            53.636480\n",
      "NAME_TYPE_SUITE              49.119754\n",
      "DAYS_FIRST_DRAWING           40.298129\n",
      "DAYS_FIRST_DUE               40.298129\n",
      "DAYS_LAST_DUE_1ST_VERSION    40.298129\n",
      "DAYS_LAST_DUE                40.298129\n",
      "DAYS_TERMINATION             40.298129\n",
      "NFLAG_INSURED_ON_APPROVAL    40.298129\n",
      "AMT_GOODS_PRICE              23.081773\n",
      "AMT_ANNUITY                  22.286665\n",
      "CNT_PAYMENT                  22.286366\n",
      "PRODUCT_COMBINATION           0.020716\n",
      "AMT_CREDIT                    0.000060\n",
      "dtype: float64\n",
      "\n",
      "Missing value percentages in POS_CASH_balance:\n",
      "CNT_INSTALMENT_FUTURE    0.260835\n",
      "CNT_INSTALMENT           0.260675\n",
      "dtype: float64\n",
      "\n",
      "Missing value percentages in installments_payments:\n",
      "DAYS_ENTRY_PAYMENT    0.021352\n",
      "AMT_PAYMENT           0.021352\n",
      "dtype: float64\n",
      "\n",
      "Missing value percentages in credit_card_balance:\n",
      "AMT_PAYMENT_CURRENT           19.998063\n",
      "AMT_DRAWINGS_ATM_CURRENT      19.524872\n",
      "AMT_DRAWINGS_OTHER_CURRENT    19.524872\n",
      "AMT_DRAWINGS_POS_CURRENT      19.524872\n",
      "CNT_DRAWINGS_ATM_CURRENT      19.524872\n",
      "CNT_DRAWINGS_OTHER_CURRENT    19.524872\n",
      "CNT_DRAWINGS_POS_CURRENT      19.524872\n",
      "AMT_INST_MIN_REGULARITY        7.948208\n",
      "CNT_INSTALMENT_MATURE_CUM      7.948208\n",
      "dtype: float64\n"
     ]
    }
   ],
   "source": [
    "# Function to check the percentage of missing values\n",
    "def check_missing_percentage(df):\n",
    "    missing_percentage = 100 * df.isnull().sum() / len(df)\n",
    "    missing_columns = missing_percentage[missing_percentage > 0].sort_values(ascending=False) \n",
    "    return missing_columns\n",
    "\n",
    "# Check missing percentage for each dataset\n",
    "for key in data.keys():\n",
    "    print(f\"\\nMissing value percentages in {key}:\")\n",
    "    missing_percentage = check_missing_percentage(data[key])\n",
    "    print(missing_percentage)"
   ]
  },
  {
   "cell_type": "markdown",
   "id": "cc415d98",
   "metadata": {
    "papermill": {
     "duration": 0.01908,
     "end_time": "2024-10-11T16:44:41.677130",
     "exception": false,
     "start_time": "2024-10-11T16:44:41.658050",
     "status": "completed"
    },
    "tags": []
   },
   "source": [
    "Мы удаляем столбцы, содержащие более 75% пропущенных значений. Возможно, мы потеряем какую-то информацию, но и сохранять ее не имеет смысла."
   ]
  },
  {
   "cell_type": "code",
   "execution_count": 71,
   "id": "9f599a12",
   "metadata": {
    "papermill": {
     "duration": 7.07194,
     "end_time": "2024-10-11T16:44:48.768682",
     "exception": false,
     "start_time": "2024-10-11T16:44:41.696742",
     "status": "completed"
    },
    "tags": []
   },
   "outputs": [
    {
     "name": "stdout",
     "output_type": "stream",
     "text": [
      "\n",
      "Handling missing values for application_train dataset...\n",
      "Dropped columns with more than 75.0% missing values: []\n",
      "Processed application_train dataset. Final shape: (307507, 122)\n",
      "\n",
      "Handling missing values for application_test dataset...\n",
      "Dropped columns with more than 75.0% missing values: []\n",
      "Processed application_test dataset. Final shape: (48744, 121)\n",
      "\n",
      "Handling missing values for bureau dataset...\n",
      "Dropped columns with more than 75.0% missing values: []\n",
      "Processed bureau dataset. Final shape: (1716428, 17)\n",
      "\n",
      "Handling missing values for bureau_balance dataset...\n",
      "Dropped columns with more than 75.0% missing values: []\n",
      "Processed bureau_balance dataset. Final shape: (27299925, 3)\n",
      "\n",
      "Handling missing values for previous_application dataset...\n",
      "Dropped columns with more than 75.0% missing values: ['RATE_INTEREST_PRIMARY', 'RATE_INTEREST_PRIVILEGED']\n",
      "Processed previous_application dataset. Final shape: (1670214, 35)\n",
      "\n",
      "Handling missing values for POS_CASH_balance dataset...\n",
      "Dropped columns with more than 75.0% missing values: []\n",
      "Processed POS_CASH_balance dataset. Final shape: (10001358, 8)\n",
      "\n",
      "Handling missing values for installments_payments dataset...\n",
      "Dropped columns with more than 75.0% missing values: []\n",
      "Processed installments_payments dataset. Final shape: (13605401, 8)\n",
      "\n",
      "Handling missing values for credit_card_balance dataset...\n",
      "Dropped columns with more than 75.0% missing values: []\n",
      "Processed credit_card_balance dataset. Final shape: (3840312, 23)\n"
     ]
    }
   ],
   "source": [
    "# Function to handle missing values\n",
    "def handle_missing_values(df):\n",
    "    # Drop columns with more than 30% missing values\n",
    "    threshold = 0.75\n",
    "    cols_to_drop = df.columns[df.isnull().mean() > threshold]\n",
    "    df.drop(columns=cols_to_drop, inplace=True)\n",
    "    print(f\"Dropped columns with more than {threshold*100}% missing values: {list(cols_to_drop)}\")\n",
    "    return df\n",
    "\n",
    "# Apply missing value handling to all datasets\n",
    "for key in data.keys():\n",
    "    print(f\"\\nHandling missing values for {key} dataset...\")\n",
    "    data[key] = handle_missing_values(data[key])\n",
    "    print(f\"Processed {key} dataset. Final shape: {data[key].shape}\")"
   ]
  },
  {
   "cell_type": "markdown",
   "id": "dfd88e06",
   "metadata": {
    "papermill": {
     "duration": 0.019627,
     "end_time": "2024-10-11T16:44:48.808353",
     "exception": false,
     "start_time": "2024-10-11T16:44:48.788726",
     "status": "completed"
    },
    "tags": []
   },
   "source": []
  },
  {
   "cell_type": "code",
   "execution_count": 74,
   "id": "1eb81a5c",
   "metadata": {
    "papermill": {
     "duration": 35.435929,
     "end_time": "2024-10-11T16:45:24.264487",
     "exception": false,
     "start_time": "2024-10-11T16:44:48.828558",
     "status": "completed"
    },
    "tags": []
   },
   "outputs": [
    {
     "name": "stdout",
     "output_type": "stream",
     "text": [
      "\n",
      "Processing application_train dataset...\n",
      "\n",
      "Initial shape: (307507, 229)\n",
      "Found 0 categorical columns to encode: []\n",
      "Final shape after encoding: (307507, 229)\n",
      "Processed application_train dataset. Final shape: (307507, 229)\n",
      "\n",
      "Processing application_test dataset...\n",
      "\n",
      "Initial shape: (48744, 226)\n",
      "Found 0 categorical columns to encode: []\n",
      "Final shape after encoding: (48744, 226)\n",
      "Processed application_test dataset. Final shape: (48744, 226)\n",
      "\n",
      "Processing bureau dataset...\n",
      "\n",
      "Initial shape: (1716428, 34)\n",
      "Found 0 categorical columns to encode: []\n",
      "Final shape after encoding: (1716428, 34)\n",
      "Processed bureau dataset. Final shape: (1716428, 34)\n",
      "\n",
      "Processing bureau_balance dataset...\n",
      "\n",
      "Initial shape: (27299925, 9)\n",
      "Found 0 categorical columns to encode: []\n",
      "Final shape after encoding: (27299925, 9)\n",
      "Processed bureau_balance dataset. Final shape: (27299925, 9)\n",
      "\n",
      "Processing previous_application dataset...\n"
     ]
    },
    {
     "ename": "MemoryError",
     "evalue": "Unable to allocate 204. MiB for an array with shape (16, 1670214) and data type object",
     "output_type": "error",
     "traceback": [
      "\u001b[1;31m---------------------------------------------------------------------------\u001b[0m",
      "\u001b[1;31mMemoryError\u001b[0m                               Traceback (most recent call last)",
      "Cell \u001b[1;32mIn[74], line 37\u001b[0m\n\u001b[0;32m     35\u001b[0m \u001b[38;5;28;01mfor\u001b[39;00m key \u001b[38;5;129;01min\u001b[39;00m data\u001b[38;5;241m.\u001b[39mkeys():\n\u001b[0;32m     36\u001b[0m     \u001b[38;5;28mprint\u001b[39m(\u001b[38;5;124mf\u001b[39m\u001b[38;5;124m\"\u001b[39m\u001b[38;5;130;01m\\n\u001b[39;00m\u001b[38;5;124mProcessing \u001b[39m\u001b[38;5;132;01m{\u001b[39;00mkey\u001b[38;5;132;01m}\u001b[39;00m\u001b[38;5;124m dataset...\u001b[39m\u001b[38;5;124m\"\u001b[39m)\n\u001b[1;32m---> 37\u001b[0m     data[key] \u001b[38;5;241m=\u001b[39m encode_categorical_features(data[key], key)\n\u001b[0;32m     38\u001b[0m     \u001b[38;5;28mprint\u001b[39m(\u001b[38;5;124mf\u001b[39m\u001b[38;5;124m\"\u001b[39m\u001b[38;5;124mProcessed \u001b[39m\u001b[38;5;132;01m{\u001b[39;00mkey\u001b[38;5;132;01m}\u001b[39;00m\u001b[38;5;124m dataset. Final shape: \u001b[39m\u001b[38;5;132;01m{\u001b[39;00mdata[key]\u001b[38;5;241m.\u001b[39mshape\u001b[38;5;132;01m}\u001b[39;00m\u001b[38;5;124m\"\u001b[39m)\n",
      "Cell \u001b[1;32mIn[74], line 8\u001b[0m, in \u001b[0;36mencode_categorical_features\u001b[1;34m(df, dataset_name)\u001b[0m\n\u001b[0;32m      5\u001b[0m initial_shape \u001b[38;5;241m=\u001b[39m df\u001b[38;5;241m.\u001b[39mshape\n\u001b[0;32m      7\u001b[0m \u001b[38;5;66;03m# Get the categorical columns (type object)\u001b[39;00m\n\u001b[1;32m----> 8\u001b[0m cat_cols \u001b[38;5;241m=\u001b[39m df\u001b[38;5;241m.\u001b[39mselect_dtypes(include\u001b[38;5;241m=\u001b[39m[\u001b[38;5;124m'\u001b[39m\u001b[38;5;124mobject\u001b[39m\u001b[38;5;124m'\u001b[39m])\u001b[38;5;241m.\u001b[39mcolumns\n\u001b[0;32m      9\u001b[0m le \u001b[38;5;241m=\u001b[39m LabelEncoder()\n\u001b[0;32m     11\u001b[0m \u001b[38;5;28mprint\u001b[39m(\u001b[38;5;124mf\u001b[39m\u001b[38;5;124m\"\u001b[39m\u001b[38;5;130;01m\\n\u001b[39;00m\u001b[38;5;124mInitial shape: \u001b[39m\u001b[38;5;132;01m{\u001b[39;00minitial_shape\u001b[38;5;132;01m}\u001b[39;00m\u001b[38;5;124m\"\u001b[39m)\n",
      "File \u001b[1;32m~\\anaconda3\\Lib\\site-packages\\pandas\\core\\frame.py:5079\u001b[0m, in \u001b[0;36mDataFrame.select_dtypes\u001b[1;34m(self, include, exclude)\u001b[0m\n\u001b[0;32m   5075\u001b[0m             \u001b[38;5;28;01mreturn\u001b[39;00m \u001b[38;5;28;01mFalse\u001b[39;00m\n\u001b[0;32m   5077\u001b[0m     \u001b[38;5;28;01mreturn\u001b[39;00m \u001b[38;5;28;01mTrue\u001b[39;00m\n\u001b[1;32m-> 5079\u001b[0m mgr \u001b[38;5;241m=\u001b[39m \u001b[38;5;28mself\u001b[39m\u001b[38;5;241m.\u001b[39m_mgr\u001b[38;5;241m.\u001b[39m_get_data_subset(predicate)\u001b[38;5;241m.\u001b[39mcopy(deep\u001b[38;5;241m=\u001b[39m\u001b[38;5;28;01mNone\u001b[39;00m)\n\u001b[0;32m   5080\u001b[0m \u001b[38;5;28;01mreturn\u001b[39;00m \u001b[38;5;28mself\u001b[39m\u001b[38;5;241m.\u001b[39m_constructor_from_mgr(mgr, axes\u001b[38;5;241m=\u001b[39mmgr\u001b[38;5;241m.\u001b[39maxes)\u001b[38;5;241m.\u001b[39m__finalize__(\u001b[38;5;28mself\u001b[39m)\n",
      "File \u001b[1;32m~\\anaconda3\\Lib\\site-packages\\pandas\\core\\internals\\managers.py:593\u001b[0m, in \u001b[0;36mBaseBlockManager.copy\u001b[1;34m(self, deep)\u001b[0m\n\u001b[0;32m    590\u001b[0m     \u001b[38;5;28;01melse\u001b[39;00m:\n\u001b[0;32m    591\u001b[0m         new_axes \u001b[38;5;241m=\u001b[39m \u001b[38;5;28mlist\u001b[39m(\u001b[38;5;28mself\u001b[39m\u001b[38;5;241m.\u001b[39maxes)\n\u001b[1;32m--> 593\u001b[0m res \u001b[38;5;241m=\u001b[39m \u001b[38;5;28mself\u001b[39m\u001b[38;5;241m.\u001b[39mapply(\u001b[38;5;124m\"\u001b[39m\u001b[38;5;124mcopy\u001b[39m\u001b[38;5;124m\"\u001b[39m, deep\u001b[38;5;241m=\u001b[39mdeep)\n\u001b[0;32m    594\u001b[0m res\u001b[38;5;241m.\u001b[39maxes \u001b[38;5;241m=\u001b[39m new_axes\n\u001b[0;32m    596\u001b[0m \u001b[38;5;28;01mif\u001b[39;00m \u001b[38;5;28mself\u001b[39m\u001b[38;5;241m.\u001b[39mndim \u001b[38;5;241m>\u001b[39m \u001b[38;5;241m1\u001b[39m:\n\u001b[0;32m    597\u001b[0m     \u001b[38;5;66;03m# Avoid needing to re-compute these\u001b[39;00m\n",
      "File \u001b[1;32m~\\anaconda3\\Lib\\site-packages\\pandas\\core\\internals\\managers.py:363\u001b[0m, in \u001b[0;36mBaseBlockManager.apply\u001b[1;34m(self, f, align_keys, **kwargs)\u001b[0m\n\u001b[0;32m    361\u001b[0m         applied \u001b[38;5;241m=\u001b[39m b\u001b[38;5;241m.\u001b[39mapply(f, \u001b[38;5;241m*\u001b[39m\u001b[38;5;241m*\u001b[39mkwargs)\n\u001b[0;32m    362\u001b[0m     \u001b[38;5;28;01melse\u001b[39;00m:\n\u001b[1;32m--> 363\u001b[0m         applied \u001b[38;5;241m=\u001b[39m \u001b[38;5;28mgetattr\u001b[39m(b, f)(\u001b[38;5;241m*\u001b[39m\u001b[38;5;241m*\u001b[39mkwargs)\n\u001b[0;32m    364\u001b[0m     result_blocks \u001b[38;5;241m=\u001b[39m extend_blocks(applied, result_blocks)\n\u001b[0;32m    366\u001b[0m out \u001b[38;5;241m=\u001b[39m \u001b[38;5;28mtype\u001b[39m(\u001b[38;5;28mself\u001b[39m)\u001b[38;5;241m.\u001b[39mfrom_blocks(result_blocks, \u001b[38;5;28mself\u001b[39m\u001b[38;5;241m.\u001b[39maxes)\n",
      "File \u001b[1;32m~\\anaconda3\\Lib\\site-packages\\pandas\\core\\internals\\blocks.py:796\u001b[0m, in \u001b[0;36mBlock.copy\u001b[1;34m(self, deep)\u001b[0m\n\u001b[0;32m    794\u001b[0m refs: BlockValuesRefs \u001b[38;5;241m|\u001b[39m \u001b[38;5;28;01mNone\u001b[39;00m\n\u001b[0;32m    795\u001b[0m \u001b[38;5;28;01mif\u001b[39;00m deep:\n\u001b[1;32m--> 796\u001b[0m     values \u001b[38;5;241m=\u001b[39m values\u001b[38;5;241m.\u001b[39mcopy()\n\u001b[0;32m    797\u001b[0m     refs \u001b[38;5;241m=\u001b[39m \u001b[38;5;28;01mNone\u001b[39;00m\n\u001b[0;32m    798\u001b[0m \u001b[38;5;28;01melse\u001b[39;00m:\n",
      "\u001b[1;31mMemoryError\u001b[0m: Unable to allocate 204. MiB for an array with shape (16, 1670214) and data type object"
     ]
    }
   ],
   "source": [
    "# Function to encode categorical columns and print shapes\n",
    "def encode_categorical_features(df, dataset_name):\n",
    "\n",
    "    # Get the shape before encoding\n",
    "    initial_shape = df.shape\n",
    "    \n",
    "    # Get the categorical columns (type object)\n",
    "    cat_cols = df.select_dtypes(include=['object']).columns\n",
    "    le = LabelEncoder()\n",
    "\n",
    "    print(f\"\\nInitial shape: {initial_shape}\")\n",
    "    print(f\"Found {len(cat_cols)} categorical columns to encode: {list(cat_cols)}\")\n",
    "    \n",
    "    for col in cat_cols:\n",
    "        # If column has only two unique values, apply Label Encoding\n",
    "        if df[col].nunique() == 2:\n",
    "            df[col] = le.fit_transform(df[col])\n",
    "            print(f\"Label Encoding applied to column: {col}\")\n",
    "        else:\n",
    "            # Apply One-Hot Encoding for multi-category columns\n",
    "            df = pd.get_dummies(df, columns=[col], drop_first=True)\n",
    "            print(f\"One-Hot Encoding applied to column: {col}\")\n",
    "    \n",
    "    # Convert any Boolean columns to integers (0 and 1)\n",
    "    for col in df.select_dtypes(include=[bool]).columns:\n",
    "        df[col] = df[col].astype(int)\n",
    "        \n",
    "    # Get the shape after encoding\n",
    "    final_shape = df.shape\n",
    "    print(f\"Final shape after encoding: {final_shape}\")\n",
    "    \n",
    "    return df\n",
    "\n",
    "# Apply encoding to all datasets\n",
    "for key in data.keys():\n",
    "    print(f\"\\nProcessing {key} dataset...\")\n",
    "    data[key] = encode_categorical_features(data[key], key)\n",
    "    print(f\"Processed {key} dataset. Final shape: {data[key].shape}\")"
   ]
  },
  {
   "cell_type": "code",
   "execution_count": null,
   "id": "eaee81dd",
   "metadata": {
    "papermill": {
     "duration": 0.147448,
     "end_time": "2024-10-11T16:45:24.435762",
     "exception": false,
     "start_time": "2024-10-11T16:45:24.288314",
     "status": "completed"
    },
    "tags": []
   },
   "outputs": [],
   "source": [
    "# Lets take a look at sample train data. We see there are no cat variables here\n",
    "data['application_train'].head()"
   ]
  },
  {
   "cell_type": "markdown",
   "id": "89101069",
   "metadata": {
    "papermill": {
     "duration": 0.024912,
     "end_time": "2024-10-11T16:45:24.486344",
     "exception": false,
     "start_time": "2024-10-11T16:45:24.461432",
     "status": "completed"
    },
    "tags": []
   },
   "source": [
    "## Давайте выясним некоторые важные особенности, необходимые для проведения корреляционного анализа"
   ]
  },
  {
   "cell_type": "code",
   "execution_count": null,
   "id": "f69cddc4",
   "metadata": {
    "papermill": {
     "duration": 45.525793,
     "end_time": "2024-10-11T16:46:10.037499",
     "exception": false,
     "start_time": "2024-10-11T16:45:24.511706",
     "status": "completed"
    },
    "tags": []
   },
   "outputs": [],
   "source": [
    "# Find correlations with the target and sort\n",
    "correlations = data['application_train'].corr()['TARGET'].sort_values()\n",
    "\n",
    "# Display correlations\n",
    "print('Most Positive Correlations:\\n', correlations.tail(5))\n",
    "print('\\nMost Negative Correlations:\\n', correlations.head(5))"
   ]
  },
  {
   "cell_type": "markdown",
   "id": "99d211f0",
   "metadata": {
    "papermill": {
     "duration": 0.024353,
     "end_time": "2024-10-11T16:46:10.087796",
     "exception": false,
     "start_time": "2024-10-11T16:46:10.063443",
     "status": "completed"
    },
    "tags": []
   },
   "source": [
    "Мы видим, что важны EXT Sources и DAYS birth"
   ]
  },
  {
   "cell_type": "markdown",
   "id": "e8c0d1bd",
   "metadata": {
    "papermill": {
     "duration": 0.025861,
     "end_time": "2024-10-11T16:46:11.950042",
     "exception": false,
     "start_time": "2024-10-11T16:46:11.924181",
     "status": "completed"
    },
    "tags": []
   },
   "source": [
    "Молодые люди имеют более высокие шансы на банкротство, чем пожилые"
   ]
  },
  {
   "cell_type": "code",
   "execution_count": null,
   "id": "974d4734",
   "metadata": {
    "papermill": {
     "duration": 1.577825,
     "end_time": "2024-10-11T16:46:13.553610",
     "exception": false,
     "start_time": "2024-10-11T16:46:11.975785",
     "status": "completed"
    },
    "tags": []
   },
   "outputs": [],
   "source": [
    "# Create the plot\n",
    "plt.figure(figsize=(5, 5))\n",
    "\n",
    "# Ensure DAYS_BIRTH is positive\n",
    "data['application_train']['DAYS_EMPLOYED'] = abs(data['application_train']['DAYS_EMPLOYED'])\n",
    "data['application_train']['DAYS_EMPLOYED'].corr(data['application_train']['TARGET'])\n",
    "# KDE plot of loans repaid on time\n",
    "sns.kdeplot(data['application_train'].loc[data['application_train']['TARGET'] == 0, 'DAYS_EMPLOYED'] / 365, label='target == 0', color='blue')\n",
    "\n",
    "# KDE plot of loans not repaid on time\n",
    "sns.kdeplot(data['application_train'].loc[data['application_train']['TARGET'] == 1, 'DAYS_EMPLOYED'] / 365, label='target == 1', color='red')\n",
    "\n",
    "# Labeling the plot\n",
    "plt.xlabel('Employed (years)')\n",
    "plt.ylabel('Density')\n",
    "plt.title('Distribution of Ages')\n",
    "\n",
    "# Add a legend to differentiate between the two plots\n",
    "plt.legend(title=\"Loan Repayment Status\")\n",
    "\n",
    "# Display the plot\n",
    "plt.show()\n"
   ]
  },
  {
   "cell_type": "code",
   "execution_count": null,
   "id": "cdd146a6",
   "metadata": {
    "papermill": {
     "duration": 0.092032,
     "end_time": "2024-10-11T16:46:13.673856",
     "exception": false,
     "start_time": "2024-10-11T16:46:13.581824",
     "status": "completed"
    },
    "tags": []
   },
   "outputs": [],
   "source": [
    "# Extract the EXT_SOURCE variables and show correlations\n",
    "ext_data = data['application_train'][['TARGET', 'EXT_SOURCE_1', 'EXT_SOURCE_2', 'EXT_SOURCE_3', 'DAYS_BIRTH', 'DAYS_EMPLOYED']]\n",
    "ext_data_corrs = ext_data.corr()\n",
    "ext_data_corrs"
   ]
  },
  {
   "cell_type": "code",
   "execution_count": 75,
   "id": "48003660",
   "metadata": {
    "papermill": {
     "duration": 0.47871,
     "end_time": "2024-10-11T16:46:14.179865",
     "exception": false,
     "start_time": "2024-10-11T16:46:13.701155",
     "status": "completed"
    },
    "tags": []
   },
   "outputs": [
    {
     "data": {
      "image/png": "[encoded data removed]",
      "text/plain": [
       "<Figure size 800x600 with 2 Axes>"
      ]
     },
     "metadata": {},
     "output_type": "display_data"
    }
   ],
   "source": [
    "plt.figure(figsize = (8, 6))\n",
    "\n",
    "# Heatmap of correlations\n",
    "sns.heatmap(ext_data_corrs, cmap = plt.cm.RdYlBu_r, vmin = -0.25, annot = True, vmax = 0.6)\n",
    "plt.title('Correlation Heatmap');"
   ]
  },
  {
   "cell_type": "markdown",
   "id": "4a726f72",
   "metadata": {
    "papermill": {
     "duration": 0.029029,
     "end_time": "2024-10-11T16:46:18.638068",
     "exception": false,
     "start_time": "2024-10-11T16:46:18.609039",
     "status": "completed"
    },
    "tags": []
   },
   "source": []
  },
  {
   "cell_type": "code",
   "execution_count": 76,
   "id": "10e7f4a3",
   "metadata": {
    "papermill": {
     "duration": 0.101068,
     "end_time": "2024-10-11T16:46:18.769317",
     "exception": false,
     "start_time": "2024-10-11T16:46:18.668249",
     "status": "completed"
    },
    "tags": []
   },
   "outputs": [
    {
     "data": {
      "text/html": [
       "<div>\n",
       "<style scoped>\n",
       "    .dataframe tbody tr th:only-of-type {\n",
       "        vertical-align: middle;\n",
       "    }\n",
       "\n",
       "    .dataframe tbody tr th {\n",
       "        vertical-align: top;\n",
       "    }\n",
       "\n",
       "    .dataframe thead th {\n",
       "        text-align: right;\n",
       "    }\n",
       "</style>\n",
       "<table border=\"1\" class=\"dataframe\">\n",
       "  <thead>\n",
       "    <tr style=\"text-align: right;\">\n",
       "      <th></th>\n",
       "      <th>SK_ID_PREV</th>\n",
       "      <th>SK_ID_CURR</th>\n",
       "      <th>NAME_CONTRACT_TYPE</th>\n",
       "      <th>AMT_ANNUITY</th>\n",
       "      <th>AMT_APPLICATION</th>\n",
       "      <th>AMT_CREDIT</th>\n",
       "      <th>AMT_DOWN_PAYMENT</th>\n",
       "      <th>AMT_GOODS_PRICE</th>\n",
       "      <th>WEEKDAY_APPR_PROCESS_START</th>\n",
       "      <th>HOUR_APPR_PROCESS_START</th>\n",
       "      <th>FLAG_LAST_APPL_PER_CONTRACT</th>\n",
       "      <th>NFLAG_LAST_APPL_IN_DAY</th>\n",
       "      <th>RATE_DOWN_PAYMENT</th>\n",
       "      <th>NAME_CASH_LOAN_PURPOSE</th>\n",
       "      <th>NAME_CONTRACT_STATUS</th>\n",
       "      <th>DAYS_DECISION</th>\n",
       "      <th>NAME_PAYMENT_TYPE</th>\n",
       "      <th>CODE_REJECT_REASON</th>\n",
       "      <th>NAME_TYPE_SUITE</th>\n",
       "      <th>NAME_CLIENT_TYPE</th>\n",
       "      <th>NAME_GOODS_CATEGORY</th>\n",
       "      <th>NAME_PORTFOLIO</th>\n",
       "      <th>NAME_PRODUCT_TYPE</th>\n",
       "      <th>CHANNEL_TYPE</th>\n",
       "      <th>SELLERPLACE_AREA</th>\n",
       "      <th>NAME_SELLER_INDUSTRY</th>\n",
       "      <th>CNT_PAYMENT</th>\n",
       "      <th>NAME_YIELD_GROUP</th>\n",
       "      <th>PRODUCT_COMBINATION</th>\n",
       "      <th>DAYS_FIRST_DRAWING</th>\n",
       "      <th>DAYS_FIRST_DUE</th>\n",
       "      <th>DAYS_LAST_DUE_1ST_VERSION</th>\n",
       "      <th>DAYS_LAST_DUE</th>\n",
       "      <th>DAYS_TERMINATION</th>\n",
       "      <th>NFLAG_INSURED_ON_APPROVAL</th>\n",
       "    </tr>\n",
       "  </thead>\n",
       "  <tbody>\n",
       "    <tr>\n",
       "      <th>0</th>\n",
       "      <td>2030495</td>\n",
       "      <td>271877</td>\n",
       "      <td>Consumer loans</td>\n",
       "      <td>1730.430</td>\n",
       "      <td>17145.0</td>\n",
       "      <td>17145.0</td>\n",
       "      <td>0.0</td>\n",
       "      <td>17145.0</td>\n",
       "      <td>SATURDAY</td>\n",
       "      <td>15</td>\n",
       "      <td>Y</td>\n",
       "      <td>1</td>\n",
       "      <td>0.0</td>\n",
       "      <td>XAP</td>\n",
       "      <td>Approved</td>\n",
       "      <td>-73</td>\n",
       "      <td>Cash through the bank</td>\n",
       "      <td>XAP</td>\n",
       "      <td>NaN</td>\n",
       "      <td>Repeater</td>\n",
       "      <td>Mobile</td>\n",
       "      <td>POS</td>\n",
       "      <td>XNA</td>\n",
       "      <td>Country-wide</td>\n",
       "      <td>35</td>\n",
       "      <td>Connectivity</td>\n",
       "      <td>12.0</td>\n",
       "      <td>middle</td>\n",
       "      <td>POS mobile with interest</td>\n",
       "      <td>365243.0</td>\n",
       "      <td>-42.0</td>\n",
       "      <td>300.0</td>\n",
       "      <td>-42.0</td>\n",
       "      <td>-37.0</td>\n",
       "      <td>0.0</td>\n",
       "    </tr>\n",
       "    <tr>\n",
       "      <th>1</th>\n",
       "      <td>2802425</td>\n",
       "      <td>108129</td>\n",
       "      <td>Cash loans</td>\n",
       "      <td>25188.615</td>\n",
       "      <td>607500.0</td>\n",
       "      <td>679671.0</td>\n",
       "      <td>NaN</td>\n",
       "      <td>607500.0</td>\n",
       "      <td>THURSDAY</td>\n",
       "      <td>11</td>\n",
       "      <td>Y</td>\n",
       "      <td>1</td>\n",
       "      <td>NaN</td>\n",
       "      <td>XNA</td>\n",
       "      <td>Approved</td>\n",
       "      <td>-164</td>\n",
       "      <td>XNA</td>\n",
       "      <td>XAP</td>\n",
       "      <td>Unaccompanied</td>\n",
       "      <td>Repeater</td>\n",
       "      <td>XNA</td>\n",
       "      <td>Cash</td>\n",
       "      <td>x-sell</td>\n",
       "      <td>Contact center</td>\n",
       "      <td>-1</td>\n",
       "      <td>XNA</td>\n",
       "      <td>36.0</td>\n",
       "      <td>low_action</td>\n",
       "      <td>Cash X-Sell: low</td>\n",
       "      <td>365243.0</td>\n",
       "      <td>-134.0</td>\n",
       "      <td>916.0</td>\n",
       "      <td>365243.0</td>\n",
       "      <td>365243.0</td>\n",
       "      <td>1.0</td>\n",
       "    </tr>\n",
       "    <tr>\n",
       "      <th>2</th>\n",
       "      <td>2523466</td>\n",
       "      <td>122040</td>\n",
       "      <td>Cash loans</td>\n",
       "      <td>15060.735</td>\n",
       "      <td>112500.0</td>\n",
       "      <td>136444.5</td>\n",
       "      <td>NaN</td>\n",
       "      <td>112500.0</td>\n",
       "      <td>TUESDAY</td>\n",
       "      <td>11</td>\n",
       "      <td>Y</td>\n",
       "      <td>1</td>\n",
       "      <td>NaN</td>\n",
       "      <td>XNA</td>\n",
       "      <td>Approved</td>\n",
       "      <td>-301</td>\n",
       "      <td>Cash through the bank</td>\n",
       "      <td>XAP</td>\n",
       "      <td>Spouse, partner</td>\n",
       "      <td>Repeater</td>\n",
       "      <td>XNA</td>\n",
       "      <td>Cash</td>\n",
       "      <td>x-sell</td>\n",
       "      <td>Credit and cash offices</td>\n",
       "      <td>-1</td>\n",
       "      <td>XNA</td>\n",
       "      <td>12.0</td>\n",
       "      <td>high</td>\n",
       "      <td>Cash X-Sell: high</td>\n",
       "      <td>365243.0</td>\n",
       "      <td>-271.0</td>\n",
       "      <td>59.0</td>\n",
       "      <td>365243.0</td>\n",
       "      <td>365243.0</td>\n",
       "      <td>1.0</td>\n",
       "    </tr>\n",
       "    <tr>\n",
       "      <th>3</th>\n",
       "      <td>2819243</td>\n",
       "      <td>176158</td>\n",
       "      <td>Cash loans</td>\n",
       "      <td>47041.335</td>\n",
       "      <td>450000.0</td>\n",
       "      <td>470790.0</td>\n",
       "      <td>NaN</td>\n",
       "      <td>450000.0</td>\n",
       "      <td>MONDAY</td>\n",
       "      <td>7</td>\n",
       "      <td>Y</td>\n",
       "      <td>1</td>\n",
       "      <td>NaN</td>\n",
       "      <td>XNA</td>\n",
       "      <td>Approved</td>\n",
       "      <td>-512</td>\n",
       "      <td>Cash through the bank</td>\n",
       "      <td>XAP</td>\n",
       "      <td>NaN</td>\n",
       "      <td>Repeater</td>\n",
       "      <td>XNA</td>\n",
       "      <td>Cash</td>\n",
       "      <td>x-sell</td>\n",
       "      <td>Credit and cash offices</td>\n",
       "      <td>-1</td>\n",
       "      <td>XNA</td>\n",
       "      <td>12.0</td>\n",
       "      <td>middle</td>\n",
       "      <td>Cash X-Sell: middle</td>\n",
       "      <td>365243.0</td>\n",
       "      <td>-482.0</td>\n",
       "      <td>-152.0</td>\n",
       "      <td>-182.0</td>\n",
       "      <td>-177.0</td>\n",
       "      <td>1.0</td>\n",
       "    </tr>\n",
       "    <tr>\n",
       "      <th>4</th>\n",
       "      <td>1784265</td>\n",
       "      <td>202054</td>\n",
       "      <td>Cash loans</td>\n",
       "      <td>31924.395</td>\n",
       "      <td>337500.0</td>\n",
       "      <td>404055.0</td>\n",
       "      <td>NaN</td>\n",
       "      <td>337500.0</td>\n",
       "      <td>THURSDAY</td>\n",
       "      <td>9</td>\n",
       "      <td>Y</td>\n",
       "      <td>1</td>\n",
       "      <td>NaN</td>\n",
       "      <td>Repairs</td>\n",
       "      <td>Refused</td>\n",
       "      <td>-781</td>\n",
       "      <td>Cash through the bank</td>\n",
       "      <td>HC</td>\n",
       "      <td>NaN</td>\n",
       "      <td>Repeater</td>\n",
       "      <td>XNA</td>\n",
       "      <td>Cash</td>\n",
       "      <td>walk-in</td>\n",
       "      <td>Credit and cash offices</td>\n",
       "      <td>-1</td>\n",
       "      <td>XNA</td>\n",
       "      <td>24.0</td>\n",
       "      <td>high</td>\n",
       "      <td>Cash Street: high</td>\n",
       "      <td>NaN</td>\n",
       "      <td>NaN</td>\n",
       "      <td>NaN</td>\n",
       "      <td>NaN</td>\n",
       "      <td>NaN</td>\n",
       "      <td>NaN</td>\n",
       "    </tr>\n",
       "  </tbody>\n",
       "</table>\n",
       "</div>"
      ],
      "text/plain": [
       "   SK_ID_PREV  SK_ID_CURR NAME_CONTRACT_TYPE  AMT_ANNUITY  AMT_APPLICATION  \\\n",
       "0     2030495      271877     Consumer loans     1730.430          17145.0   \n",
       "1     2802425      108129         Cash loans    25188.615         607500.0   \n",
       "2     2523466      122040         Cash loans    15060.735         112500.0   \n",
       "3     2819243      176158         Cash loans    47041.335         450000.0   \n",
       "4     1784265      202054         Cash loans    31924.395         337500.0   \n",
       "\n",
       "   AMT_CREDIT  AMT_DOWN_PAYMENT  AMT_GOODS_PRICE WEEKDAY_APPR_PROCESS_START  \\\n",
       "0     17145.0               0.0          17145.0                   SATURDAY   \n",
       "1    679671.0               NaN         607500.0                   THURSDAY   \n",
       "2    136444.5               NaN         112500.0                    TUESDAY   \n",
       "3    470790.0               NaN         450000.0                     MONDAY   \n",
       "4    404055.0               NaN         337500.0                   THURSDAY   \n",
       "\n",
       "   HOUR_APPR_PROCESS_START FLAG_LAST_APPL_PER_CONTRACT  \\\n",
       "0                       15                           Y   \n",
       "1                       11                           Y   \n",
       "2                       11                           Y   \n",
       "3                        7                           Y   \n",
       "4                        9                           Y   \n",
       "\n",
       "   NFLAG_LAST_APPL_IN_DAY  RATE_DOWN_PAYMENT NAME_CASH_LOAN_PURPOSE  \\\n",
       "0                       1                0.0                    XAP   \n",
       "1                       1                NaN                    XNA   \n",
       "2                       1                NaN                    XNA   \n",
       "3                       1                NaN                    XNA   \n",
       "4                       1                NaN                Repairs   \n",
       "\n",
       "  NAME_CONTRACT_STATUS  DAYS_DECISION      NAME_PAYMENT_TYPE  \\\n",
       "0             Approved            -73  Cash through the bank   \n",
       "1             Approved           -164                    XNA   \n",
       "2             Approved           -301  Cash through the bank   \n",
       "3             Approved           -512  Cash through the bank   \n",
       "4              Refused           -781  Cash through the bank   \n",
       "\n",
       "  CODE_REJECT_REASON  NAME_TYPE_SUITE NAME_CLIENT_TYPE NAME_GOODS_CATEGORY  \\\n",
       "0                XAP              NaN         Repeater              Mobile   \n",
       "1                XAP    Unaccompanied         Repeater                 XNA   \n",
       "2                XAP  Spouse, partner         Repeater                 XNA   \n",
       "3                XAP              NaN         Repeater                 XNA   \n",
       "4                 HC              NaN         Repeater                 XNA   \n",
       "\n",
       "  NAME_PORTFOLIO NAME_PRODUCT_TYPE             CHANNEL_TYPE  SELLERPLACE_AREA  \\\n",
       "0            POS               XNA             Country-wide                35   \n",
       "1           Cash            x-sell           Contact center                -1   \n",
       "2           Cash            x-sell  Credit and cash offices                -1   \n",
       "3           Cash            x-sell  Credit and cash offices                -1   \n",
       "4           Cash           walk-in  Credit and cash offices                -1   \n",
       "\n",
       "  NAME_SELLER_INDUSTRY  CNT_PAYMENT NAME_YIELD_GROUP  \\\n",
       "0         Connectivity         12.0           middle   \n",
       "1                  XNA         36.0       low_action   \n",
       "2                  XNA         12.0             high   \n",
       "3                  XNA         12.0           middle   \n",
       "4                  XNA         24.0             high   \n",
       "\n",
       "        PRODUCT_COMBINATION  DAYS_FIRST_DRAWING  DAYS_FIRST_DUE  \\\n",
       "0  POS mobile with interest            365243.0           -42.0   \n",
       "1          Cash X-Sell: low            365243.0          -134.0   \n",
       "2         Cash X-Sell: high            365243.0          -271.0   \n",
       "3       Cash X-Sell: middle            365243.0          -482.0   \n",
       "4         Cash Street: high                 NaN             NaN   \n",
       "\n",
       "   DAYS_LAST_DUE_1ST_VERSION  DAYS_LAST_DUE  DAYS_TERMINATION  \\\n",
       "0                      300.0          -42.0             -37.0   \n",
       "1                      916.0       365243.0          365243.0   \n",
       "2                       59.0       365243.0          365243.0   \n",
       "3                     -152.0         -182.0            -177.0   \n",
       "4                        NaN            NaN               NaN   \n",
       "\n",
       "   NFLAG_INSURED_ON_APPROVAL  \n",
       "0                        0.0  \n",
       "1                        1.0  \n",
       "2                        1.0  \n",
       "3                        1.0  \n",
       "4                        NaN  "
      ]
     },
     "execution_count": 76,
     "metadata": {},
     "output_type": "execute_result"
    }
   ],
   "source": [
    "data['previous_application'].head()"
   ]
  },
  {
   "cell_type": "code",
   "execution_count": 77,
   "id": "8c4d8e53",
   "metadata": {
    "papermill": {
     "duration": 0.671565,
     "end_time": "2024-10-11T16:46:19.473587",
     "exception": false,
     "start_time": "2024-10-11T16:46:18.802022",
     "status": "completed"
    },
    "tags": []
   },
   "outputs": [
    {
     "name": "stdout",
     "output_type": "stream",
     "text": [
      "count    997149.000000\n",
      "mean     342209.855039\n",
      "std       88916.115834\n",
      "min       -2922.000000\n",
      "25%      365243.000000\n",
      "50%      365243.000000\n",
      "75%      365243.000000\n",
      "max      365243.000000\n",
      "Name: DAYS_FIRST_DRAWING, dtype: float64\n",
      "count    997149.000000\n",
      "mean      13826.269337\n",
      "std       72444.869708\n",
      "min       -2892.000000\n",
      "25%       -1628.000000\n",
      "50%        -831.000000\n",
      "75%        -411.000000\n",
      "max      365243.000000\n",
      "Name: DAYS_FIRST_DUE, dtype: float64\n",
      "count    997149.000000\n",
      "mean      33767.774054\n",
      "std      106857.034789\n",
      "min       -2801.000000\n",
      "25%       -1242.000000\n",
      "50%        -361.000000\n",
      "75%         129.000000\n",
      "max      365243.000000\n",
      "Name: DAYS_LAST_DUE_1ST_VERSION, dtype: float64\n",
      "count    997149.000000\n",
      "mean      76582.403064\n",
      "std      149647.415123\n",
      "min       -2889.000000\n",
      "25%       -1314.000000\n",
      "50%        -537.000000\n",
      "75%         -74.000000\n",
      "max      365243.000000\n",
      "Name: DAYS_LAST_DUE, dtype: float64\n",
      "count    997149.000000\n",
      "mean      81992.343838\n",
      "std      153303.516729\n",
      "min       -2874.000000\n",
      "25%       -1270.000000\n",
      "50%        -499.000000\n",
      "75%         -44.000000\n",
      "max      365243.000000\n",
      "Name: DAYS_TERMINATION, dtype: float64\n"
     ]
    }
   ],
   "source": [
    "# Check the columns for reasonable values\n",
    "print(data['previous_application']['DAYS_FIRST_DRAWING'].describe())\n",
    "print(data['previous_application']['DAYS_FIRST_DUE'].describe())\n",
    "print(data['previous_application']['DAYS_LAST_DUE_1ST_VERSION'].describe())\n",
    "print(data['previous_application']['DAYS_LAST_DUE'].describe())\n",
    "print(data['previous_application']['DAYS_TERMINATION'].describe())"
   ]
  },
  {
   "cell_type": "code",
   "execution_count": 78,
   "id": "e61e4d5e",
   "metadata": {
    "papermill": {
     "duration": 0.080351,
     "end_time": "2024-10-11T16:46:19.646311",
     "exception": false,
     "start_time": "2024-10-11T16:46:19.565960",
     "status": "completed"
    },
    "tags": []
   },
   "outputs": [],
   "source": [
    "data['previous_application']['DAYS_FIRST_DRAWING'].replace(365243, np.nan, inplace= True)\n",
    "data['previous_application']['DAYS_FIRST_DUE'].replace(365243, np.nan, inplace= True)\n",
    "data['previous_application']['DAYS_LAST_DUE_1ST_VERSION'].replace(365243, np.nan, inplace= True)\n",
    "data['previous_application']['DAYS_LAST_DUE'].replace(365243, np.nan, inplace= True)\n",
    "data['previous_application']['DAYS_TERMINATION'].replace(365243, np.nan, inplace= True)"
   ]
  },
  {
   "cell_type": "markdown",
   "id": "e91c105f",
   "metadata": {
    "papermill": {
     "duration": 0.035228,
     "end_time": "2024-10-11T16:46:19.826138",
     "exception": false,
     "start_time": "2024-10-11T16:46:19.790910",
     "status": "completed"
    },
    "tags": []
   },
   "source": [
    " Обработать другие пропущенные значения с помощью fillna"
   ]
  },
  {
   "cell_type": "code",
   "execution_count": 79,
   "id": "f9d95943",
   "metadata": {
    "papermill": {
     "duration": 25.096512,
     "end_time": "2024-10-11T16:46:44.953611",
     "exception": false,
     "start_time": "2024-10-11T16:46:19.857099",
     "status": "completed"
    },
    "tags": []
   },
   "outputs": [],
   "source": [
    "# Function to handle missing values\n",
    "def impute_cols_with_nas(df):\n",
    "    # Impute missing values for numerical columns with the median\n",
    "    num_cols = df.select_dtypes(include=['float64', 'int64']).columns\n",
    "    for col in num_cols:\n",
    "        df[col].fillna(df[col].median(), inplace=True)\n",
    "        \n",
    "    # Impute missing values for categorical columns with the mode\n",
    "    cat_cols = df.select_dtypes(include=['object']).columns\n",
    "    for col in cat_cols:\n",
    "        df[col].fillna(df[col].mode()[0], inplace=True)\n",
    "\n",
    "# Impute columns with NAs for each dataset\n",
    "for key in data.keys():\n",
    "    impute_cols_with_nas(data[key])"
   ]
  },
  {
   "cell_type": "markdown",
   "id": "55f32bfa",
   "metadata": {
    "papermill": {
     "duration": 0.03091,
     "end_time": "2024-10-11T16:46:45.016123",
     "exception": false,
     "start_time": "2024-10-11T16:46:44.985213",
     "status": "completed"
    },
    "tags": []
   },
   "source": [
    "Категориальное кодирование может изменить количество функций при обучении и тестировании, поэтому выровняйте их так, чтобы они не вызывали проблем при построении модели"
   ]
  },
  {
   "cell_type": "code",
   "execution_count": 80,
   "id": "ee250be9",
   "metadata": {
    "papermill": {
     "duration": 0.413274,
     "end_time": "2024-10-11T16:46:45.460487",
     "exception": false,
     "start_time": "2024-10-11T16:46:45.047213",
     "status": "completed"
    },
    "tags": []
   },
   "outputs": [
    {
     "name": "stdout",
     "output_type": "stream",
     "text": [
      "Training Features shape:  (307507, 227)\n",
      "Testing Features shape:  (48744, 226)\n"
     ]
    }
   ],
   "source": [
    "train_labels = data['application_train']['TARGET']\n",
    "\n",
    "# Align the training and testing data, keep only columns present in both dataframes\n",
    "data['application_train'], data['application_test'] = data['application_train'].align(data['application_test'], join = 'inner', axis = 1)\n",
    "\n",
    "# Add the target back in\n",
    "data['application_train']['TARGET'] = train_labels\n",
    "\n",
    "print('Training Features shape: ', data['application_train'].shape)\n",
    "print('Testing Features shape: ', data['application_test'].shape)"
   ]
  },
  {
   "cell_type": "code",
   "execution_count": 81,
   "id": "7f39c7c9",
   "metadata": {
    "papermill": {
     "duration": 1.134993,
     "end_time": "2024-10-11T16:46:46.627034",
     "exception": false,
     "start_time": "2024-10-11T16:46:45.492041",
     "status": "completed"
    },
    "tags": []
   },
   "outputs": [
    {
     "name": "stdout",
     "output_type": "stream",
     "text": [
      "\n",
      "Missing value percentages in application_train:\n",
      "Series([], dtype: float64)\n",
      "\n",
      "Missing value percentages in application_test:\n",
      "Series([], dtype: float64)\n",
      "\n",
      "Missing value percentages in bureau:\n",
      "Series([], dtype: float64)\n",
      "\n",
      "Missing value percentages in bureau_balance:\n",
      "Series([], dtype: float64)\n",
      "\n",
      "Missing value percentages in previous_application:\n",
      "Series([], dtype: float64)\n",
      "\n",
      "Missing value percentages in POS_CASH_balance:\n",
      "Series([], dtype: float64)\n",
      "\n",
      "Missing value percentages in installments_payments:\n",
      "Series([], dtype: float64)\n",
      "\n",
      "Missing value percentages in credit_card_balance:\n",
      "Series([], dtype: float64)\n"
     ]
    }
   ],
   "source": [
    "# Check missing percentage for each dataset\n",
    "for key in data.keys():\n",
    "    print(f\"\\nMissing value percentages in {key}:\")\n",
    "    missing_percentage = check_missing_percentage(data[key])\n",
    "    print(missing_percentage)"
   ]
  },
  {
   "cell_type": "markdown",
   "id": "c536005b",
   "metadata": {
    "papermill": {
     "duration": 0.031522,
     "end_time": "2024-10-11T16:46:46.763917",
     "exception": false,
     "start_time": "2024-10-11T16:46:46.732395",
     "status": "completed"
    },
    "tags": []
   },
   "source": [
    "### Модели"
   ]
  },
  {
   "cell_type": "code",
   "execution_count": 82,
   "id": "c2474d1e",
   "metadata": {
    "papermill": {
     "duration": 1.596618,
     "end_time": "2024-10-11T16:46:48.392559",
     "exception": false,
     "start_time": "2024-10-11T16:46:46.795941",
     "status": "completed"
    },
    "tags": []
   },
   "outputs": [],
   "source": [
    "y_train = data['application_train']['TARGET']\n",
    "X_train = data['application_train'].drop(columns=['TARGET', 'SK_ID_CURR'])  # Drop target and identifier\n",
    "\n",
    "# Splitting the training data into train and validation sets\n",
    "X_train_split, X_valid, y_train_split, y_valid = train_test_split(X_train, y_train, test_size=0.2, random_state=42, stratify=y_train)"
   ]
  },
  {
   "cell_type": "code",
   "execution_count": 83,
   "id": "6b0f0a4c",
   "metadata": {
    "papermill": {
     "duration": 216.8632,
     "end_time": "2024-10-11T16:50:25.371143",
     "exception": false,
     "start_time": "2024-10-11T16:46:48.507943",
     "status": "completed"
    },
    "tags": []
   },
   "outputs": [
    {
     "name": "stdout",
     "output_type": "stream",
     "text": [
      "Logistic Regression ROC AUC: 0.6311\n",
      "Random Forest ROC AUC: 0.7086\n",
      "XGBoost ROC AUC: 0.7526\n"
     ]
    }
   ],
   "source": [
    "models = {\n",
    "    \"Logistic Regression\": LogisticRegression(max_iter=1000),\n",
    "    \"Random Forest\": RandomForestClassifier(n_estimators=100, random_state=42),\n",
    "    \"XGBoost\": xgb.XGBClassifier(use_label_encoder=False, eval_metric='logloss', random_state=42),\n",
    "}\n",
    "\n",
    "# Train and evaluate models\n",
    "for model_name, model in models.items():\n",
    "    model.fit(X_train_split, y_train_split)\n",
    "    y_pred_valid = model.predict_proba(X_valid)[:, 1]\n",
    "    roc_auc = roc_auc_score(y_valid, y_pred_valid)\n",
    "    print(f\"{model_name} ROC AUC: {roc_auc:.4f}\")"
   ]
  },
  {
   "cell_type": "markdown",
   "id": "f7b7eb62",
   "metadata": {
    "papermill": {
     "duration": 0.032428,
     "end_time": "2024-10-11T16:50:25.435636",
     "exception": false,
     "start_time": "2024-10-11T16:50:25.403208",
     "status": "completed"
    },
    "tags": []
   },
   "source": [
    "\n",
    "### Logistic Regression ROC AUC: 0.6316\n",
    "### Random Forest ROC AUC: 0.7130\n",
    "### XGBoost ROC AUC: 0.7510"
   ]
  },
  {
   "cell_type": "markdown",
   "id": "ce9c1f61",
   "metadata": {
    "papermill": {
     "duration": 0.032161,
     "end_time": "2024-10-11T16:50:25.500076",
     "exception": false,
     "start_time": "2024-10-11T16:50:25.467915",
     "status": "completed"
    },
    "tags": []
   },
   "source": [
    "### DNN"
   ]
  },
  {
   "cell_type": "code",
   "execution_count": 84,
   "id": "a4e80864",
   "metadata": {
    "papermill": {
     "duration": 42.502148,
     "end_time": "2024-10-11T16:51:08.033972",
     "exception": false,
     "start_time": "2024-10-11T16:50:25.531824",
     "status": "completed"
    },
    "tags": []
   },
   "outputs": [
    {
     "name": "stdout",
     "output_type": "stream",
     "text": [
      "Epoch 1/10\n",
      "\u001b[1m932/932\u001b[0m \u001b[32m━━━━━━━━━━━━━━━━━━━━\u001b[0m\u001b[37m\u001b[0m \u001b[1m10s\u001b[0m 5ms/step - AUC: 0.5003 - loss: 916.8981 - val_AUC: 0.5000 - val_loss: 0.4092\n",
      "Epoch 2/10\n",
      "\u001b[1m932/932\u001b[0m \u001b[32m━━━━━━━━━━━━━━━━━━━━\u001b[0m\u001b[37m\u001b[0m \u001b[1m4s\u001b[0m 4ms/step - AUC: 0.5000 - loss: 2.9275 - val_AUC: 0.5000 - val_loss: 0.3103\n",
      "Epoch 3/10\n",
      "\u001b[1m932/932\u001b[0m \u001b[32m━━━━━━━━━━━━━━━━━━━━\u001b[0m\u001b[37m\u001b[0m \u001b[1m4s\u001b[0m 4ms/step - AUC: 0.4974 - loss: 0.6688 - val_AUC: 0.5000 - val_loss: 0.2865\n",
      "Epoch 4/10\n",
      "\u001b[1m932/932\u001b[0m \u001b[32m━━━━━━━━━━━━━━━━━━━━\u001b[0m\u001b[37m\u001b[0m \u001b[1m4s\u001b[0m 4ms/step - AUC: 0.4954 - loss: 0.5247 - val_AUC: 0.5000 - val_loss: 0.2814\n",
      "Epoch 5/10\n",
      "\u001b[1m932/932\u001b[0m \u001b[32m━━━━━━━━━━━━━━━━━━━━\u001b[0m\u001b[37m\u001b[0m \u001b[1m4s\u001b[0m 4ms/step - AUC: 0.4973 - loss: 0.3581 - val_AUC: 0.5000 - val_loss: 0.2806\n",
      "Epoch 6/10\n",
      "\u001b[1m932/932\u001b[0m \u001b[32m━━━━━━━━━━━━━━━━━━━━\u001b[0m\u001b[37m\u001b[0m \u001b[1m4s\u001b[0m 4ms/step - AUC: 0.5001 - loss: 0.3133 - val_AUC: 0.5000 - val_loss: 0.2806\n",
      "Epoch 7/10\n",
      "\u001b[1m932/932\u001b[0m \u001b[32m━━━━━━━━━━━━━━━━━━━━\u001b[0m\u001b[37m\u001b[0m \u001b[1m4s\u001b[0m 4ms/step - AUC: 0.5000 - loss: 0.2977 - val_AUC: 0.5000 - val_loss: 0.2806\n",
      "Epoch 8/10\n",
      "\u001b[1m932/932\u001b[0m \u001b[32m━━━━━━━━━━━━━━━━━━━━\u001b[0m\u001b[37m\u001b[0m \u001b[1m4s\u001b[0m 4ms/step - AUC: 0.5004 - loss: 0.2987 - val_AUC: 0.5000 - val_loss: 0.2806\n",
      "Epoch 9/10\n",
      "\u001b[1m932/932\u001b[0m \u001b[32m━━━━━━━━━━━━━━━━━━━━\u001b[0m\u001b[37m\u001b[0m \u001b[1m4s\u001b[0m 4ms/step - AUC: 0.5006 - loss: 0.2852 - val_AUC: 0.5000 - val_loss: 0.2806\n",
      "Epoch 10/10\n",
      "\u001b[1m932/932\u001b[0m \u001b[32m━━━━━━━━━━━━━━━━━━━━\u001b[0m\u001b[37m\u001b[0m \u001b[1m4s\u001b[0m 4ms/step - AUC: 0.5002 - loss: 0.3200 - val_AUC: 0.5000 - val_loss: 0.2806\n",
      "\u001b[1m1922/1922\u001b[0m \u001b[32m━━━━━━━━━━━━━━━━━━━━\u001b[0m\u001b[37m\u001b[0m \u001b[1m3s\u001b[0m 2ms/step\n",
      "Deep Neural Network ROC AUC: 0.5000\n"
     ]
    }
   ],
   "source": [
    "def create_dnn_model(input_shape):\n",
    "    model = tf.keras.models.Sequential([\n",
    "        tf.keras.layers.Dense(64, input_dim=input_shape, activation='relu'),\n",
    "        tf.keras.layers.Dropout(0.3),  # Dropout for regularization\n",
    "        tf.keras.layers.Dense(32, activation='relu'),\n",
    "        tf.keras.layers.Dropout(0.3),\n",
    "        tf.keras.layers.Dense(16, activation='relu'),\n",
    "        tf.keras.layers.Dense(1, activation='sigmoid')  # Output layer for binary classification\n",
    "    ])\n",
    "    \n",
    "    # Compile the model\n",
    "    model.compile(optimizer='adam', loss='binary_crossentropy', metrics=['AUC'])\n",
    "    return model\n",
    "\n",
    "# Shape of the input data\n",
    "input_shape = X_train_split.shape[1]\n",
    "\n",
    "# Initialize the DNN model\n",
    "dnn_model = create_dnn_model(input_shape)\n",
    "\n",
    "# Early stopping callback - stop training when validation AUC does not improve for 3 consecutive epochs\n",
    "early_stopping = tf.keras.callbacks.EarlyStopping(\n",
    "    monitor='val_auc',  # Track validation AUC\n",
    "    patience=3,         # Number of epochs with no improvement to stop training\n",
    "    mode='max',         # We want to maximize AUC\n",
    "    restore_best_weights=True  # Restore model weights from the epoch with the best AUC\n",
    ")\n",
    "\n",
    "# Train the DNN model with early stopping\n",
    "dnn_model.fit(\n",
    "    X_train_split, y_train_split, \n",
    "    epochs=10,                  # Set a higher max number of epochs\n",
    "    batch_size=264, \n",
    "    validation_data=(X_valid, y_valid), \n",
    "    callbacks=[early_stopping],  # Add the early stopping callback\n",
    "    verbose=1\n",
    ")\n",
    "\n",
    "# Evaluate the DNN model on validation data\n",
    "y_pred_valid_dnn = dnn_model.predict(X_valid).ravel()  # Flatten the array for roc_auc_score\n",
    "roc_auc_dnn = roc_auc_score(y_valid, y_pred_valid_dnn)\n",
    "\n",
    "print(f\"Deep Neural Network ROC AUC: {roc_auc_dnn:.4f}\")"
   ]
  },
  {
   "cell_type": "markdown",
   "id": "4ed78332",
   "metadata": {
    "papermill": {
     "duration": 0.077412,
     "end_time": "2024-10-11T16:51:08.189547",
     "exception": false,
     "start_time": "2024-10-11T16:51:08.112135",
     "status": "completed"
    },
    "tags": []
   },
   "source": [
    "Мы видим, что ROC AUC глубоких нейронных сетей при проверке равен 0,5. Что в основном означает, что он ведет себя случайным образом."
   ]
  },
  {
   "cell_type": "markdown",
   "id": "dc300799",
   "metadata": {
    "papermill": {
     "duration": 0.078122,
     "end_time": "2024-10-11T16:51:08.347469",
     "exception": false,
     "start_time": "2024-10-11T16:51:08.269347",
     "status": "completed"
    },
    "tags": []
   },
   "source": [
    "Теперь давайте масштабируем данные и посмотрим, как ведут себя модели.\n",
    " Я использовал StandardScaler"
   ]
  },
  {
   "cell_type": "code",
   "execution_count": 85,
   "id": "6e6e997b",
   "metadata": {
    "papermill": {
     "duration": 1.239074,
     "end_time": "2024-10-11T16:51:09.663331",
     "exception": false,
     "start_time": "2024-10-11T16:51:08.424257",
     "status": "completed"
    },
    "tags": []
   },
   "outputs": [],
   "source": [
    "# Initialize the scaler\n",
    "scaler = StandardScaler()\n",
    "\n",
    "# Fit the scaler on the training data and transform both training and validation data\n",
    "X_train_scaled = scaler.fit_transform(X_train_split)\n",
    "X_valid_scaled = scaler.transform(X_valid)"
   ]
  },
  {
   "cell_type": "markdown",
   "id": "84360c0c",
   "metadata": {
    "papermill": {
     "duration": 0.089745,
     "end_time": "2024-10-11T16:51:09.835810",
     "exception": false,
     "start_time": "2024-10-11T16:51:09.746065",
     "status": "completed"
    },
    "tags": []
   },
   "source": [
    "Давайте обучим логистическую регрессию, Случайный лес, XGBoost и DNNs на основе данных X_train_scaled и протестируем на данных X_valid_scaled.\n",
    " Примечание: Данные теперь масштабируются. Но мы по-прежнему имеем дело только с данными приложения для обучения. До сих пор мы не использовали никаких других данных."
   ]
  },
  {
   "cell_type": "code",
   "execution_count": 86,
   "id": "55aad18c",
   "metadata": {
    "papermill": {
     "duration": 229.872044,
     "end_time": "2024-10-11T16:54:59.783387",
     "exception": false,
     "start_time": "2024-10-11T16:51:09.911343",
     "status": "completed"
    },
    "tags": []
   },
   "outputs": [
    {
     "name": "stdout",
     "output_type": "stream",
     "text": [
      "Logistic Regression ROC AUC: 0.7493\n",
      "Random Forest ROC AUC: 0.7088\n",
      "XGBoost ROC AUC: 0.7526\n"
     ]
    }
   ],
   "source": [
    "# Train and evaluate models\n",
    "for model_name, model in models.items():\n",
    "    model.fit(X_train_scaled, y_train_split)\n",
    "    y_pred_valid = model.predict_proba(X_valid_scaled)[:, 1]\n",
    "    roc_auc = roc_auc_score(y_valid, y_pred_valid)\n",
    "    print(f\"{model_name} ROC AUC: {roc_auc:.4f}\")"
   ]
  },
  {
   "cell_type": "markdown",
   "id": "7387eeaa",
   "metadata": {
    "papermill": {
     "duration": 0.075976,
     "end_time": "2024-10-11T16:54:59.944958",
     "exception": false,
     "start_time": "2024-10-11T16:54:59.868982",
     "status": "completed"
    },
    "tags": []
   },
   "source": [
    "\n",
    "### Logistic Regression ROC AUC: 0.7491\n",
    "### Random Forest ROC AUC: 0.7131\n",
    "### XGBoost ROC AUC: 0.7510"
   ]
  },
  {
   "cell_type": "markdown",
   "id": "125668d8-a3af-4914-b9b7-3974a3fe406a",
   "metadata": {},
   "source": [
    "После масштабирования мы получаем следующие результаты. Мы видим, что производительность логистической регрессии значительно возросла только за счет масштабирования данных. С другой стороны, масштабирование не влияет на два других алгоритма, поскольку они сами заботятся об этом."
   ]
  },
  {
   "cell_type": "code",
   "execution_count": 87,
   "id": "f35dbb40",
   "metadata": {
    "papermill": {
     "duration": 65.838981,
     "end_time": "2024-10-11T16:56:06.016286",
     "exception": false,
     "start_time": "2024-10-11T16:55:00.177305",
     "status": "completed"
    },
    "tags": []
   },
   "outputs": [
    {
     "name": "stdout",
     "output_type": "stream",
     "text": [
      "Epoch 1/10\n",
      "\u001b[1m932/932\u001b[0m \u001b[32m━━━━━━━━━━━━━━━━━━━━\u001b[0m\u001b[37m\u001b[0m \u001b[1m9s\u001b[0m 6ms/step - AUC: 0.6668 - loss: 0.2758 - val_AUC: 0.7424 - val_loss: 0.2510\n",
      "Epoch 2/10\n",
      "\u001b[1m932/932\u001b[0m \u001b[32m━━━━━━━━━━━━━━━━━━━━\u001b[0m\u001b[37m\u001b[0m \u001b[1m5s\u001b[0m 6ms/step - AUC: 0.7298 - loss: 0.2541 - val_AUC: 0.7433 - val_loss: 0.2514\n",
      "Epoch 3/10\n",
      "\u001b[1m932/932\u001b[0m \u001b[32m━━━━━━━━━━━━━━━━━━━━\u001b[0m\u001b[37m\u001b[0m \u001b[1m6s\u001b[0m 6ms/step - AUC: 0.7346 - loss: 0.2538 - val_AUC: 0.7434 - val_loss: 0.2509\n",
      "Epoch 4/10\n",
      "\u001b[1m932/932\u001b[0m \u001b[32m━━━━━━━━━━━━━━━━━━━━\u001b[0m\u001b[37m\u001b[0m \u001b[1m6s\u001b[0m 6ms/step - AUC: 0.7379 - loss: 0.2543 - val_AUC: 0.7449 - val_loss: 0.2509\n",
      "Epoch 5/10\n",
      "\u001b[1m932/932\u001b[0m \u001b[32m━━━━━━━━━━━━━━━━━━━━\u001b[0m\u001b[37m\u001b[0m \u001b[1m6s\u001b[0m 6ms/step - AUC: 0.7404 - loss: 0.2510 - val_AUC: 0.7454 - val_loss: 0.2510\n",
      "Epoch 6/10\n",
      "\u001b[1m932/932\u001b[0m \u001b[32m━━━━━━━━━━━━━━━━━━━━\u001b[0m\u001b[37m\u001b[0m \u001b[1m6s\u001b[0m 6ms/step - AUC: 0.7422 - loss: 0.2524 - val_AUC: 0.7480 - val_loss: 0.2501\n",
      "Epoch 7/10\n",
      "\u001b[1m932/932\u001b[0m \u001b[32m━━━━━━━━━━━━━━━━━━━━\u001b[0m\u001b[37m\u001b[0m \u001b[1m6s\u001b[0m 6ms/step - AUC: 0.7479 - loss: 0.2498 - val_AUC: 0.7459 - val_loss: 0.2507\n",
      "Epoch 8/10\n",
      "\u001b[1m932/932\u001b[0m \u001b[32m━━━━━━━━━━━━━━━━━━━━\u001b[0m\u001b[37m\u001b[0m \u001b[1m6s\u001b[0m 6ms/step - AUC: 0.7504 - loss: 0.2486 - val_AUC: 0.7473 - val_loss: 0.2500\n",
      "Epoch 9/10\n",
      "\u001b[1m932/932\u001b[0m \u001b[32m━━━━━━━━━━━━━━━━━━━━\u001b[0m\u001b[37m\u001b[0m \u001b[1m6s\u001b[0m 6ms/step - AUC: 0.7520 - loss: 0.2462 - val_AUC: 0.7467 - val_loss: 0.2504\n",
      "Epoch 10/10\n",
      "\u001b[1m932/932\u001b[0m \u001b[32m━━━━━━━━━━━━━━━━━━━━\u001b[0m\u001b[37m\u001b[0m \u001b[1m5s\u001b[0m 6ms/step - AUC: 0.7495 - loss: 0.2515 - val_AUC: 0.7480 - val_loss: 0.2501\n",
      "\u001b[1m1922/1922\u001b[0m \u001b[32m━━━━━━━━━━━━━━━━━━━━\u001b[0m\u001b[37m\u001b[0m \u001b[1m4s\u001b[0m 2ms/step\n",
      "Optimized Deep Neural Network ROC AUC: 0.7482\n"
     ]
    }
   ],
   "source": [
    "def create_optimized_dnn_model(input_shape):\n",
    "    model = tf.keras.models.Sequential([\n",
    "        tf.keras.layers.Dense(128, input_dim=input_shape, activation='relu'),\n",
    "        tf.keras.layers.Dropout(0.4),  # Increased dropout for regularization\n",
    "        tf.keras.layers.BatchNormalization(),  # Batch normalization\n",
    "        tf.keras.layers.Dense(64, activation='relu'),\n",
    "        tf.keras.layers.Dropout(0.4),\n",
    "        tf.keras.layers.BatchNormalization(),\n",
    "        tf.keras.layers.Dense(32, activation='relu'),\n",
    "        tf.keras.layers.Dense(1, activation='sigmoid')  # Output layer for binary classification\n",
    "    ])\n",
    "    \n",
    "    # Compile the model with a different learning rate\n",
    "    model.compile(optimizer=tf.keras.optimizers.Adam(learning_rate=0.01), \n",
    "                  loss='binary_crossentropy', \n",
    "                  metrics=['AUC'])\n",
    "    return model\n",
    "\n",
    "input_shape = X_train_scaled.shape[1]\n",
    "\n",
    "# Initialize the optimized DNN model\n",
    "optimized_dnn_model = create_optimized_dnn_model(input_shape)\n",
    "\n",
    "# Early stopping callback\n",
    "early_stopping = tf.keras.callbacks.EarlyStopping(\n",
    "    monitor='val_auc',\n",
    "    patience=3,  # Increased patience\n",
    "    mode='max',\n",
    "    restore_best_weights=True\n",
    ")\n",
    "\n",
    "# Train the optimized DNN model with early stopping and learning rate scheduler\n",
    "history = optimized_dnn_model.fit(\n",
    "    X_train_scaled, y_train_split,\n",
    "    epochs=10, \n",
    "    batch_size=264,\n",
    "    validation_data=(X_valid_scaled, y_valid),\n",
    "    callbacks=[early_stopping],\n",
    "    verbose=1\n",
    ")\n",
    "\n",
    "# Evaluate the optimized DNN model on validation data\n",
    "y_pred_valid_dnn = optimized_dnn_model.predict(X_valid_scaled).ravel()  # Flatten the array for roc_auc_score\n",
    "roc_auc_dnn = roc_auc_score(y_valid, y_pred_valid_dnn)\n",
    "\n",
    "print(f\"Optimized Deep Neural Network ROC AUC: {roc_auc_dnn:.4f}\")"
   ]
  },
  {
   "cell_type": "markdown",
   "id": "3414e066",
   "metadata": {
    "papermill": {
     "duration": 0.144255,
     "end_time": "2024-10-11T16:56:06.314160",
     "exception": false,
     "start_time": "2024-10-11T16:56:06.169905",
     "status": "completed"
    },
    "tags": []
   },
   "source": [
    "Теперь мы можем видеть, что наша глубокая нейронная сеть выдала нам ROC AUC 0,7483 для данных проверки с масштабированием и только для данных application_train без previous_loan и т.д."
   ]
  },
  {
   "cell_type": "markdown",
   "id": "cf7ef633",
   "metadata": {
    "papermill": {
     "duration": 0.150787,
     "end_time": "2024-10-11T16:56:06.609735",
     "exception": false,
     "start_time": "2024-10-11T16:56:06.458948",
     "status": "completed"
    },
    "tags": []
   },
   "source": [
    "### We know that we are dealing with highly imbalanced problem"
   ]
  },
  {
   "cell_type": "code",
   "execution_count": 88,
   "id": "c1d5c89d",
   "metadata": {
    "papermill": {
     "duration": 0.480514,
     "end_time": "2024-10-11T16:56:07.247564",
     "exception": false,
     "start_time": "2024-10-11T16:56:06.767050",
     "status": "completed"
    },
    "tags": []
   },
   "outputs": [
    {
     "name": "stdout",
     "output_type": "stream",
     "text": [
      "TARGET\n",
      "0    282682\n",
      "1     24825\n",
      "Name: count, dtype: int64\n"
     ]
    },
    {
     "data": {
      "image/png": "[encoded data removed]",
      "text/plain": [
       "<Figure size 640x480 with 1 Axes>"
      ]
     },
     "metadata": {},
     "output_type": "display_data"
    }
   ],
   "source": [
    "print(data['application_train']['TARGET'].value_counts())\n",
    "data['application_train']['TARGET'].astype(int).plot.hist();"
   ]
  },
  {
   "cell_type": "markdown",
   "id": "c4b0494a",
   "metadata": {
    "papermill": {
     "duration": 0.150489,
     "end_time": "2024-10-11T16:56:07.546079",
     "exception": false,
     "start_time": "2024-10-11T16:56:07.395590",
     "status": "completed"
    },
    "tags": []
   },
   "source": [
    "### применим SMOTE"
   ]
  },
  {
   "cell_type": "code",
   "execution_count": 89,
   "id": "524af246",
   "metadata": {
    "papermill": {
     "duration": 5.218052,
     "end_time": "2024-10-11T16:56:12.914186",
     "exception": false,
     "start_time": "2024-10-11T16:56:07.696134",
     "status": "completed"
    },
    "tags": []
   },
   "outputs": [
    {
     "name": "stdout",
     "output_type": "stream",
     "text": [
      "After SMOTE: Counter({0: 226145, 1: 226145})\n"
     ]
    }
   ],
   "source": [
    "# Initialize SMOTE\n",
    "smote = SMOTE(random_state=42)\n",
    "\n",
    "# Apply SMOTE to the training split\n",
    "X_train_resampled, y_train_resampled = smote.fit_resample(X_train_scaled, y_train_split)\n",
    "\n",
    "# Print class distribution after SMOTE\n",
    "print(\"After SMOTE:\", Counter(y_train_resampled))"
   ]
  },
  {
   "cell_type": "code",
   "execution_count": 90,
   "id": "11ba860f",
   "metadata": {
    "papermill": {
     "duration": 441.336757,
     "end_time": "2024-10-11T17:03:34.398453",
     "exception": false,
     "start_time": "2024-10-11T16:56:13.061696",
     "status": "completed"
    },
    "tags": []
   },
   "outputs": [
    {
     "name": "stdout",
     "output_type": "stream",
     "text": [
      "Logistic Regression ROC AUC: 0.7414\n",
      "Random Forest ROC AUC: 0.7032\n",
      "XGBoost ROC AUC: 0.7448\n"
     ]
    }
   ],
   "source": [
    "# Train and evaluate models\n",
    "for model_name, model in models.items():\n",
    "    model.fit(X_train_resampled, y_train_resampled)\n",
    "    y_pred_valid = model.predict_proba(X_valid_scaled)[:, 1]\n",
    "    roc_auc = roc_auc_score(y_valid, y_pred_valid)\n",
    "    print(f\"{model_name} ROC AUC: {roc_auc:.4f}\")"
   ]
  },
  {
   "cell_type": "code",
   "execution_count": 91,
   "id": "c5ed6d39",
   "metadata": {
    "papermill": {
     "duration": 109.064006,
     "end_time": "2024-10-11T17:05:23.675152",
     "exception": false,
     "start_time": "2024-10-11T17:03:34.611146",
     "status": "completed"
    },
    "tags": []
   },
   "outputs": [
    {
     "name": "stdout",
     "output_type": "stream",
     "text": [
      "Epoch 1/30\n",
      "\u001b[1m1714/1714\u001b[0m \u001b[32m━━━━━━━━━━━━━━━━━━━━\u001b[0m\u001b[37m\u001b[0m \u001b[1m14s\u001b[0m 5ms/step - AUC: 0.7748 - loss: 0.5679 - val_AUC: 0.7250 - val_loss: 0.4516\n",
      "Epoch 2/30\n",
      "\u001b[1m1714/1714\u001b[0m \u001b[32m━━━━━━━━━━━━━━━━━━━━\u001b[0m\u001b[37m\u001b[0m \u001b[1m9s\u001b[0m 5ms/step - AUC: 0.8378 - loss: 0.4982 - val_AUC: 0.7182 - val_loss: 0.4356\n",
      "Epoch 3/30\n",
      "\u001b[1m1714/1714\u001b[0m \u001b[32m━━━━━━━━━━━━━━━━━━━━\u001b[0m\u001b[37m\u001b[0m \u001b[1m10s\u001b[0m 6ms/step - AUC: 0.8564 - loss: 0.4726 - val_AUC: 0.7211 - val_loss: 0.4524\n",
      "Epoch 4/30\n",
      "\u001b[1m1714/1714\u001b[0m \u001b[32m━━━━━━━━━━━━━━━━━━━━\u001b[0m\u001b[37m\u001b[0m \u001b[1m9s\u001b[0m 5ms/step - AUC: 0.8683 - loss: 0.4545 - val_AUC: 0.7182 - val_loss: 0.4102\n",
      "Epoch 5/30\n",
      "\u001b[1m1714/1714\u001b[0m \u001b[32m━━━━━━━━━━━━━━━━━━━━\u001b[0m\u001b[37m\u001b[0m \u001b[1m9s\u001b[0m 5ms/step - AUC: 0.8773 - loss: 0.4401 - val_AUC: 0.7162 - val_loss: 0.4272\n",
      "Epoch 6/30\n",
      "\u001b[1m1714/1714\u001b[0m \u001b[32m━━━━━━━━━━━━━━━━━━━━\u001b[0m\u001b[37m\u001b[0m \u001b[1m9s\u001b[0m 5ms/step - AUC: 0.8831 - loss: 0.4303 - val_AUC: 0.7162 - val_loss: 0.4650\n",
      "Epoch 7/30\n",
      "\u001b[1m1714/1714\u001b[0m \u001b[32m━━━━━━━━━━━━━━━━━━━━\u001b[0m\u001b[37m\u001b[0m \u001b[1m9s\u001b[0m 5ms/step - AUC: 0.8883 - loss: 0.4217 - val_AUC: 0.7153 - val_loss: 0.3910\n",
      "Epoch 8/30\n",
      "\u001b[1m1714/1714\u001b[0m \u001b[32m━━━━━━━━━━━━━━━━━━━━\u001b[0m\u001b[37m\u001b[0m \u001b[1m11s\u001b[0m 6ms/step - AUC: 0.8923 - loss: 0.4145 - val_AUC: 0.7129 - val_loss: 0.4687\n",
      "Epoch 9/30\n",
      "\u001b[1m1714/1714\u001b[0m \u001b[32m━━━━━━━━━━━━━━━━━━━━\u001b[0m\u001b[37m\u001b[0m \u001b[1m9s\u001b[0m 5ms/step - AUC: 0.8961 - loss: 0.4076 - val_AUC: 0.7106 - val_loss: 0.3642\n",
      "Epoch 10/30\n",
      "\u001b[1m1714/1714\u001b[0m \u001b[32m━━━━━━━━━━━━━━━━━━━━\u001b[0m\u001b[37m\u001b[0m \u001b[1m9s\u001b[0m 5ms/step - AUC: 0.8990 - loss: 0.4022 - val_AUC: 0.7100 - val_loss: 0.3834\n",
      "Epoch 11/30\n",
      "\u001b[1m1714/1714\u001b[0m \u001b[32m━━━━━━━━━━━━━━━━━━━━\u001b[0m\u001b[37m\u001b[0m \u001b[1m9s\u001b[0m 5ms/step - AUC: 0.9010 - loss: 0.3984 - val_AUC: 0.7150 - val_loss: 0.3953\n",
      "Epoch 12/30\n",
      "\u001b[1m1714/1714\u001b[0m \u001b[32m━━━━━━━━━━━━━━━━━━━━\u001b[0m\u001b[37m\u001b[0m \u001b[1m10s\u001b[0m 6ms/step - AUC: 0.9032 - loss: 0.3942 - val_AUC: 0.7084 - val_loss: 0.4103\n",
      "Epoch 13/30\n",
      "\u001b[1m1714/1714\u001b[0m \u001b[32m━━━━━━━━━━━━━━━━━━━━\u001b[0m\u001b[37m\u001b[0m \u001b[1m10s\u001b[0m 6ms/step - AUC: 0.9055 - loss: 0.3901 - val_AUC: 0.7076 - val_loss: 0.3996\n",
      "Epoch 14/30\n",
      "\u001b[1m1714/1714\u001b[0m \u001b[32m━━━━━━━━━━━━━━━━━━━━\u001b[0m\u001b[37m\u001b[0m \u001b[1m10s\u001b[0m 6ms/step - AUC: 0.9079 - loss: 0.3851 - val_AUC: 0.7159 - val_loss: 0.3324\n",
      "Epoch 15/30\n",
      "\u001b[1m1714/1714\u001b[0m \u001b[32m━━━━━━━━━━━━━━━━━━━━\u001b[0m\u001b[37m\u001b[0m \u001b[1m10s\u001b[0m 6ms/step - AUC: 0.9087 - loss: 0.3834 - val_AUC: 0.7098 - val_loss: 0.4136\n",
      "Epoch 16/30\n",
      "\u001b[1m1714/1714\u001b[0m \u001b[32m━━━━━━━━━━━━━━━━━━━━\u001b[0m\u001b[37m\u001b[0m \u001b[1m10s\u001b[0m 6ms/step - AUC: 0.9105 - loss: 0.3800 - val_AUC: 0.7070 - val_loss: 0.4144\n",
      "Epoch 17/30\n",
      "\u001b[1m1714/1714\u001b[0m \u001b[32m━━━━━━━━━━━━━━━━━━━━\u001b[0m\u001b[37m\u001b[0m \u001b[1m10s\u001b[0m 6ms/step - AUC: 0.9112 - loss: 0.3783 - val_AUC: 0.7152 - val_loss: 0.4034\n",
      "Epoch 18/30\n",
      "\u001b[1m1714/1714\u001b[0m \u001b[32m━━━━━━━━━━━━━━━━━━━━\u001b[0m\u001b[37m\u001b[0m \u001b[1m10s\u001b[0m 6ms/step - AUC: 0.9134 - loss: 0.3741 - val_AUC: 0.7080 - val_loss: 0.3476\n",
      "Epoch 19/30\n",
      "\u001b[1m1714/1714\u001b[0m \u001b[32m━━━━━━━━━━━━━━━━━━━━\u001b[0m\u001b[37m\u001b[0m \u001b[1m10s\u001b[0m 6ms/step - AUC: 0.9145 - loss: 0.3716 - val_AUC: 0.7154 - val_loss: 0.3499\n",
      "Epoch 20/30\n",
      "\u001b[1m1714/1714\u001b[0m \u001b[32m━━━━━━━━━━━━━━━━━━━━\u001b[0m\u001b[37m\u001b[0m \u001b[1m10s\u001b[0m 6ms/step - AUC: 0.9167 - loss: 0.3671 - val_AUC: 0.7104 - val_loss: 0.4183\n",
      "Epoch 21/30\n",
      "\u001b[1m1714/1714\u001b[0m \u001b[32m━━━━━━━━━━━━━━━━━━━━\u001b[0m\u001b[37m\u001b[0m \u001b[1m10s\u001b[0m 6ms/step - AUC: 0.9167 - loss: 0.3670 - val_AUC: 0.7155 - val_loss: 0.3602\n",
      "Epoch 22/30\n",
      "\u001b[1m1714/1714\u001b[0m \u001b[32m━━━━━━━━━━━━━━━━━━━━\u001b[0m\u001b[37m\u001b[0m \u001b[1m10s\u001b[0m 6ms/step - AUC: 0.9177 - loss: 0.3650 - val_AUC: 0.7101 - val_loss: 0.3410\n",
      "Epoch 23/30\n",
      "\u001b[1m1714/1714\u001b[0m \u001b[32m━━━━━━━━━━━━━━━━━━━━\u001b[0m\u001b[37m\u001b[0m \u001b[1m10s\u001b[0m 6ms/step - AUC: 0.9181 - loss: 0.3637 - val_AUC: 0.7112 - val_loss: 0.3589\n",
      "Epoch 24/30\n",
      "\u001b[1m1714/1714\u001b[0m \u001b[32m━━━━━━━━━━━━━━━━━━━━\u001b[0m\u001b[37m\u001b[0m \u001b[1m10s\u001b[0m 6ms/step - AUC: 0.9189 - loss: 0.3624 - val_AUC: 0.7080 - val_loss: 0.3866\n",
      "Epoch 25/30\n",
      "\u001b[1m1714/1714\u001b[0m \u001b[32m━━━━━━━━━━━━━━━━━━━━\u001b[0m\u001b[37m\u001b[0m \u001b[1m10s\u001b[0m 6ms/step - AUC: 0.9197 - loss: 0.3604 - val_AUC: 0.7171 - val_loss: 0.3252\n",
      "Epoch 26/30\n",
      "\u001b[1m1714/1714\u001b[0m \u001b[32m━━━━━━━━━━━━━━━━━━━━\u001b[0m\u001b[37m\u001b[0m \u001b[1m10s\u001b[0m 6ms/step - AUC: 0.9211 - loss: 0.3575 - val_AUC: 0.7093 - val_loss: 0.3794\n",
      "Epoch 27/30\n",
      "\u001b[1m1714/1714\u001b[0m \u001b[32m━━━━━━━━━━━━━━━━━━━━\u001b[0m\u001b[37m\u001b[0m \u001b[1m10s\u001b[0m 6ms/step - AUC: 0.9212 - loss: 0.3571 - val_AUC: 0.7097 - val_loss: 0.3317\n",
      "Epoch 28/30\n",
      "\u001b[1m1714/1714\u001b[0m \u001b[32m━━━━━━━━━━━━━━━━━━━━\u001b[0m\u001b[37m\u001b[0m \u001b[1m10s\u001b[0m 6ms/step - AUC: 0.9219 - loss: 0.3559 - val_AUC: 0.7166 - val_loss: 0.3333\n",
      "Epoch 29/30\n",
      "\u001b[1m1714/1714\u001b[0m \u001b[32m━━━━━━━━━━━━━━━━━━━━\u001b[0m\u001b[37m\u001b[0m \u001b[1m10s\u001b[0m 6ms/step - AUC: 0.9236 - loss: 0.3521 - val_AUC: 0.7056 - val_loss: 0.3671\n",
      "Epoch 30/30\n",
      "\u001b[1m1714/1714\u001b[0m \u001b[32m━━━━━━━━━━━━━━━━━━━━\u001b[0m\u001b[37m\u001b[0m \u001b[1m10s\u001b[0m 6ms/step - AUC: 0.9235 - loss: 0.3522 - val_AUC: 0.7045 - val_loss: 0.3943\n",
      "\u001b[1m1922/1922\u001b[0m \u001b[32m━━━━━━━━━━━━━━━━━━━━\u001b[0m\u001b[37m\u001b[0m \u001b[1m6s\u001b[0m 3ms/step\n",
      "Optimized Deep Neural Network ROC AUC: 0.7046\n"
     ]
    }
   ],
   "source": [
    "input_shape = X_train_resampled.shape[1]\n",
    "\n",
    "# Initialize the optimized DNN model\n",
    "optimized_dnn_model = create_optimized_dnn_model(input_shape)\n",
    "\n",
    "# Early stopping callback\n",
    "early_stopping = tf.keras.callbacks.EarlyStopping(\n",
    "    monitor='val_auc',\n",
    "    patience=3,  # Increased patience\n",
    "    mode='max',\n",
    "    restore_best_weights=True\n",
    ")\n",
    "\n",
    "# Train the optimized DNN model with early stopping and learning rate scheduler\n",
    "history = optimized_dnn_model.fit(\n",
    "    X_train_resampled, y_train_resampled,\n",
    "    epochs=30, \n",
    "    batch_size=264,\n",
    "    validation_data=(X_valid_scaled, y_valid),\n",
    "    callbacks=[early_stopping],\n",
    "    verbose=1\n",
    ")\n",
    "\n",
    "# Evaluate the optimized DNN model on validation data\n",
    "y_pred_valid_dnn = optimized_dnn_model.predict(X_valid_scaled).ravel()  # Flatten the array for roc_auc_score\n",
    "roc_auc_dnn = roc_auc_score(y_valid, y_pred_valid_dnn)\n",
    "\n",
    "print(f\"Optimized Deep Neural Network ROC AUC: {roc_auc_dnn:.4f}\")"
   ]
  },
  {
   "cell_type": "code",
   "execution_count": 92,
   "id": "8a7a3d1f-56bc-4b5c-adb1-e3f34699e0de",
   "metadata": {},
   "outputs": [
    {
     "ename": "KeyError",
     "evalue": "'auc'",
     "output_type": "error",
     "traceback": [
      "\u001b[1;31m---------------------------------------------------------------------------\u001b[0m",
      "\u001b[1;31mKeyError\u001b[0m                                  Traceback (most recent call last)",
      "Cell \u001b[1;32mIn[92], line 28\u001b[0m\n\u001b[0;32m     25\u001b[0m     plt\u001b[38;5;241m.\u001b[39mshow()\n\u001b[0;32m     27\u001b[0m \u001b[38;5;66;03m# Вызов функции (подставьте вашу историю обучения)\u001b[39;00m\n\u001b[1;32m---> 28\u001b[0m plot_training_history(history)\n",
      "Cell \u001b[1;32mIn[92], line 18\u001b[0m, in \u001b[0;36mplot_training_history\u001b[1;34m(history)\u001b[0m\n\u001b[0;32m     16\u001b[0m \u001b[38;5;66;03m# График метрики AUC\u001b[39;00m\n\u001b[0;32m     17\u001b[0m plt\u001b[38;5;241m.\u001b[39msubplot(\u001b[38;5;241m1\u001b[39m, \u001b[38;5;241m2\u001b[39m, \u001b[38;5;241m2\u001b[39m)\n\u001b[1;32m---> 18\u001b[0m plt\u001b[38;5;241m.\u001b[39mplot(history\u001b[38;5;241m.\u001b[39mhistory[\u001b[38;5;124m'\u001b[39m\u001b[38;5;124mauc\u001b[39m\u001b[38;5;124m'\u001b[39m], label\u001b[38;5;241m=\u001b[39m\u001b[38;5;124m'\u001b[39m\u001b[38;5;124mTrain AUC\u001b[39m\u001b[38;5;124m'\u001b[39m)\n\u001b[0;32m     19\u001b[0m plt\u001b[38;5;241m.\u001b[39mplot(history\u001b[38;5;241m.\u001b[39mhistory[\u001b[38;5;124m'\u001b[39m\u001b[38;5;124mval_auc\u001b[39m\u001b[38;5;124m'\u001b[39m], label\u001b[38;5;241m=\u001b[39m\u001b[38;5;124m'\u001b[39m\u001b[38;5;124mVal AUC\u001b[39m\u001b[38;5;124m'\u001b[39m)\n\u001b[0;32m     20\u001b[0m plt\u001b[38;5;241m.\u001b[39mxlabel(\u001b[38;5;124m'\u001b[39m\u001b[38;5;124mEpochs\u001b[39m\u001b[38;5;124m'\u001b[39m)\n",
      "\u001b[1;31mKeyError\u001b[0m: 'auc'"
     ]
    },
    {
     "data": {
      "image/png": "[encoded data removed]",
      "text/plain": [
       "<Figure size 1200x500 with 2 Axes>"
      ]
     },
     "metadata": {},
     "output_type": "display_data"
    }
   ],
   "source": [
    "import matplotlib.pyplot as plt\n",
    "\n",
    "def plot_training_history(history):\n",
    "    \"\"\"Функция для визуализации процесса обучения модели\"\"\"\n",
    "    plt.figure(figsize=(12, 5))\n",
    "    \n",
    "    # График функции потерь\n",
    "    plt.subplot(1, 2, 1)\n",
    "    plt.plot(history.history['loss'], label='Train Loss')\n",
    "    plt.plot(history.history['val_loss'], label='Val Loss')\n",
    "    plt.xlabel('Epochs')\n",
    "    plt.ylabel('Loss')\n",
    "    plt.title('Loss Curve')\n",
    "    plt.legend()\n",
    "    \n",
    "    # График метрики AUC\n",
    "    plt.subplot(1, 2, 2)\n",
    "    plt.plot(history.history['auc'], label='Train AUC')\n",
    "    plt.plot(history.history['val_auc'], label='Val AUC')\n",
    "    plt.xlabel('Epochs')\n",
    "    plt.ylabel('AUC')\n",
    "    plt.title('AUC Curve')\n",
    "    plt.legend()\n",
    "    \n",
    "    plt.show()\n",
    "\n",
    "# Вызов функции (подставьте вашу историю обучения)\n",
    "plot_training_history(history)\n"
   ]
  },
  {
   "cell_type": "markdown",
   "id": "45b04226",
   "metadata": {
    "papermill": {
     "duration": 0.275889,
     "end_time": "2024-10-11T17:05:24.223779",
     "exception": false,
     "start_time": "2024-10-11T17:05:23.947890",
     "status": "completed"
    },
    "tags": []
   },
   "source": [
    "Итак, после SMOTE то, что мы наблюдали в deep neural network, является классическим случаем переобучения. Значение AUC для обучения равно 0,89, но значение AUC для проверки равно 0,71.\n",
    " Для других алгоритмов производительность не сильно изменилась, поэтому мы не будем переходить к SMOTE"
   ]
  },
  {
   "cell_type": "code",
   "execution_count": null,
   "id": "d4386900",
   "metadata": {
    "papermill": {
     "duration": 1.043385,
     "end_time": "2024-10-11T17:05:25.542255",
     "exception": false,
     "start_time": "2024-10-11T17:05:24.498870",
     "status": "completed"
    },
    "tags": []
   },
   "outputs": [],
   "source": [
    "del X_train_resampled\n",
    "gc.collect()\n",
    "del y_train_resampled\n",
    "gc.collect()"
   ]
  },
  {
   "cell_type": "markdown",
   "id": "bf912733",
   "metadata": {
    "execution": {
     "iopub.execute_input": "2024-10-11T12:20:13.675826Z",
     "iopub.status.busy": "2024-10-11T12:20:13.675375Z",
     "iopub.status.idle": "2024-10-11T12:20:13.706322Z",
     "shell.execute_reply": "2024-10-11T12:20:13.705108Z",
     "shell.execute_reply.started": "2024-10-11T12:20:13.675783Z"
    },
    "papermill": {
     "duration": 0.268555,
     "end_time": "2024-10-11T17:05:26.080264",
     "exception": false,
     "start_time": "2024-10-11T17:05:25.811709",
     "status": "completed"
    },
    "tags": []
   },
   "source": [
    "### Объеденим все остальные данные"
   ]
  },
  {
   "cell_type": "code",
   "execution_count": null,
   "id": "6367f229",
   "metadata": {
    "papermill": {
     "duration": 0.621483,
     "end_time": "2024-10-11T17:05:26.976719",
     "exception": false,
     "start_time": "2024-10-11T17:05:26.355236",
     "status": "completed"
    },
    "tags": []
   },
   "outputs": [],
   "source": [
    "y_train = data['application_train']['TARGET']\n",
    "X_train = data['application_train'].drop(columns=['TARGET'])  # Drop target and identifier\n",
    "X_test = data['application_test']  # Drop identifier from test set"
   ]
  },
  {
   "cell_type": "code",
   "execution_count": null,
   "id": "68fce89e",
   "metadata": {
    "papermill": {
     "duration": 82.721453,
     "end_time": "2024-10-11T17:06:49.971366",
     "exception": false,
     "start_time": "2024-10-11T17:05:27.249913",
     "status": "completed"
    },
    "tags": []
   },
   "outputs": [],
   "source": [
    "# Aggregate bureau data\n",
    "bureau_agg = data['bureau'].groupby('SK_ID_CURR').agg(['mean', 'sum', 'max', 'min'])\n",
    "bureau_agg.columns = ['_'.join(col).strip() for col in bureau_agg.columns.values]\n",
    "\n",
    "# Aggregate previous_application data\n",
    "previous_app_agg = data['previous_application'].groupby('SK_ID_CURR').agg(['mean', 'sum', 'max', 'min'])\n",
    "previous_app_agg.columns = ['_'.join(col).strip() for col in previous_app_agg.columns.values]\n",
    "\n",
    "# Aggregate credit_card_balance data\n",
    "credit_card_agg = data['credit_card_balance'].groupby('SK_ID_CURR').agg(['mean', 'sum', 'max', 'min'])\n",
    "credit_card_agg.columns = ['_'.join(col).strip() for col in credit_card_agg.columns.values]\n",
    "\n",
    "# Aggregate POS_CASH_balance data\n",
    "pos_cash_agg = data['POS_CASH_balance'].groupby('SK_ID_CURR').agg(['mean', 'sum', 'max', 'min'])\n",
    "pos_cash_agg.columns = ['_'.join(col).strip() for col in pos_cash_agg.columns.values]\n",
    "\n",
    "# Aggregate installments_payments data\n",
    "installments_agg = data['installments_payments'].groupby('SK_ID_CURR').agg(['mean', 'sum', 'max', 'min'])\n",
    "installments_agg.columns = ['installments_' + '_'.join(col).strip() for col in installments_agg.columns.values]"
   ]
  },
  {
   "cell_type": "code",
   "execution_count": null,
   "id": "cb193450",
   "metadata": {
    "papermill": {
     "duration": 31.595485,
     "end_time": "2024-10-11T17:07:21.834307",
     "exception": false,
     "start_time": "2024-10-11T17:06:50.238822",
     "status": "completed"
    },
    "tags": []
   },
   "outputs": [],
   "source": [
    "# Merge aggregated features into the application_train dataset\n",
    "application_train = X_train.merge(bureau_agg, on='SK_ID_CURR', how='left')\n",
    "application_train = application_train.merge(previous_app_agg, on='SK_ID_CURR', how='left')\n",
    "application_train = application_train.merge(credit_card_agg, on='SK_ID_CURR', how='left')\n",
    "application_train = application_train.merge(pos_cash_agg, on='SK_ID_CURR', how='left')\n",
    "application_train = application_train.merge(installments_agg, on='SK_ID_CURR', how='left')\n",
    "\n",
    "# For application_test, we do similar merging\n",
    "application_test = X_test.merge(bureau_agg, on='SK_ID_CURR', how='left')\n",
    "application_test = application_test.merge(previous_app_agg, on='SK_ID_CURR', how='left')\n",
    "application_test = application_test.merge(credit_card_agg, on='SK_ID_CURR', how='left')\n",
    "application_test = application_test.merge(pos_cash_agg, on='SK_ID_CURR', how='left')\n",
    "application_test = application_test.merge(installments_agg, on='SK_ID_CURR', how='left')"
   ]
  },
  {
   "cell_type": "code",
   "execution_count": null,
   "id": "52c86b08",
   "metadata": {
    "papermill": {
     "duration": 13.028797,
     "end_time": "2024-10-11T17:07:35.672179",
     "exception": false,
     "start_time": "2024-10-11T17:07:22.643382",
     "status": "completed"
    },
    "tags": []
   },
   "outputs": [],
   "source": [
    "# Impute columns with NAs for each dataset\n",
    "impute_cols_with_nas(application_train)\n",
    "impute_cols_with_nas(application_test)"
   ]
  },
  {
   "cell_type": "code",
   "execution_count": null,
   "id": "703cf57e",
   "metadata": {
    "papermill": {
     "duration": 1.345807,
     "end_time": "2024-10-11T17:07:37.898612",
     "exception": false,
     "start_time": "2024-10-11T17:07:36.552805",
     "status": "completed"
    },
    "tags": []
   },
   "outputs": [],
   "source": [
    "application_train_data = application_train.drop(columns=['SK_ID_CURR'])\n",
    "application_test_data = application_test.drop(columns=['SK_ID_CURR'])"
   ]
  },
  {
   "cell_type": "code",
   "execution_count": null,
   "id": "1104bb4c",
   "metadata": {
    "papermill": {
     "duration": 3.880536,
     "end_time": "2024-10-11T17:07:43.589193",
     "exception": false,
     "start_time": "2024-10-11T17:07:39.708657",
     "status": "completed"
    },
    "tags": []
   },
   "outputs": [],
   "source": [
    "# Splitting the training data into train and validation sets\n",
    "X_train_split, X_valid, y_train_split, y_valid = train_test_split(application_train_data, y_train, test_size=0.2, random_state=42, stratify=y_train)"
   ]
  },
  {
   "cell_type": "code",
   "execution_count": null,
   "id": "4f422264",
   "metadata": {
    "papermill": {
     "duration": 6.442245,
     "end_time": "2024-10-11T17:07:50.835739",
     "exception": false,
     "start_time": "2024-10-11T17:07:44.393494",
     "status": "completed"
    },
    "tags": []
   },
   "outputs": [],
   "source": [
    "scaler = StandardScaler()\n",
    "\n",
    "# Fit the scaler on the training data and transform both training and validation data\n",
    "X_train_scaled = scaler.fit_transform(X_train_split)\n",
    "X_valid_scaled = scaler.transform(X_valid)"
   ]
  },
  {
   "cell_type": "code",
   "execution_count": null,
   "id": "8959ca8b",
   "metadata": {
    "papermill": {
     "duration": 922.108265,
     "end_time": "2024-10-11T17:23:13.740185",
     "exception": false,
     "start_time": "2024-10-11T17:07:51.631920",
     "status": "completed"
    },
    "tags": []
   },
   "outputs": [],
   "source": [
    "# Train and evaluate models\n",
    "for model_name, model in models.items():\n",
    "    model.fit(X_train_scaled, y_train_split)\n",
    "    y_pred_valid = model.predict_proba(X_valid_scaled)[:, 1]\n",
    "    roc_auc = roc_auc_score(y_valid, y_pred_valid)\n",
    "    print(f\"{model_name} ROC AUC: {roc_auc:.4f}\")"
   ]
  },
  {
   "cell_type": "code",
   "execution_count": null,
   "id": "6e6237ff",
   "metadata": {
    "papermill": {
     "duration": 68.772436,
     "end_time": "2024-10-11T17:24:22.780683",
     "exception": false,
     "start_time": "2024-10-11T17:23:14.008247",
     "status": "completed"
    },
    "tags": []
   },
   "outputs": [],
   "source": [
    "# Shape of the input data\n",
    "input_shape = X_train_scaled.shape[1]\n",
    "\n",
    "# Initialize the optimized DNN model\n",
    "optimized_dnn_model = create_optimized_dnn_model(input_shape)\n",
    "\n",
    "# Early stopping callback\n",
    "early_stopping = tf.keras.callbacks.EarlyStopping(\n",
    "    monitor='val_auc',\n",
    "    mode='max',\n",
    "    restore_best_weights=True\n",
    ")\n",
    "\n",
    "# Train the optimized DNN model with early stopping and learning rate scheduler\n",
    "history = optimized_dnn_model.fit(\n",
    "    X_train_scaled, y_train_split,\n",
    "    epochs=10, \n",
    "    batch_size=512,\n",
    "    validation_data=(X_valid_scaled, y_valid),\n",
    "    callbacks=[early_stopping],\n",
    "    verbose=1\n",
    ")\n",
    "\n",
    "# Evaluate the optimized DNN model on validation data\n",
    "y_pred_valid_dnn = optimized_dnn_model.predict(X_valid_scaled).ravel()  # Flatten the array for roc_auc_score\n",
    "roc_auc_dnn = roc_auc_score(y_valid, y_pred_valid_dnn)\n",
    "\n",
    "print(f\"Optimized Deep Neural Network ROC AUC: {roc_auc_dnn:.4f}\")"
   ]
  },
  {
   "cell_type": "markdown",
   "id": "94f9f2af",
   "metadata": {
    "papermill": {
     "duration": 0.343721,
     "end_time": "2024-10-11T17:24:23.533272",
     "exception": false,
     "start_time": "2024-10-11T17:24:23.189551",
     "status": "completed"
    },
    "tags": []
   },
   "source": [
    "Наконец, мы смогли достичь результатов, близких к 0,77, с помощью XGBoost, логистической регрессии и глубоких нейронных сетей.\n",
    "Если мы доработаем другие наборы данных, такие как предыдущая загрузка, кредитные данные и т.д., Мы сможем еще больше повысить производительность"
   ]
  },
  {
   "cell_type": "code",
   "execution_count": null,
   "id": "32f1cefa",
   "metadata": {
    "papermill": {
     "duration": 10.017802,
     "end_time": "2024-10-11T17:24:34.557319",
     "exception": false,
     "start_time": "2024-10-11T17:24:24.539517",
     "status": "completed"
    },
    "tags": []
   },
   "outputs": [],
   "source": [
    "scaler = StandardScaler()\n",
    "\n",
    "# Fit the scaler on the training data and transform both training and validation data\n",
    "X_train_scaled = scaler.fit_transform(application_train_data)\n",
    "X_test_scaled = scaler.transform(application_test_data)"
   ]
  },
  {
   "cell_type": "code",
   "execution_count": null,
   "id": "5bc7b67c",
   "metadata": {
    "papermill": {
     "duration": 0.352408,
     "end_time": "2024-10-11T17:24:35.249870",
     "exception": false,
     "start_time": "2024-10-11T17:24:34.897462",
     "status": "completed"
    },
    "tags": []
   },
   "outputs": [],
   "source": [
    "X_train_scaled.shape"
   ]
  },
  {
   "cell_type": "code",
   "execution_count": null,
   "id": "3e95a171",
   "metadata": {
    "papermill": {
     "duration": 0.345236,
     "end_time": "2024-10-11T17:24:35.931396",
     "exception": false,
     "start_time": "2024-10-11T17:24:35.586160",
     "status": "completed"
    },
    "tags": []
   },
   "outputs": [],
   "source": [
    "X_test_scaled.shape"
   ]
  },
  {
   "cell_type": "code",
   "execution_count": null,
   "id": "f197b166",
   "metadata": {
    "papermill": {
     "duration": 0.346941,
     "end_time": "2024-10-11T17:24:36.680533",
     "exception": false,
     "start_time": "2024-10-11T17:24:36.333592",
     "status": "completed"
    },
    "tags": []
   },
   "outputs": [],
   "source": [
    "len(y_train)"
   ]
  },
  {
   "cell_type": "code",
   "execution_count": null,
   "id": "577c6f20",
   "metadata": {
    "papermill": {
     "duration": 1198.739303,
     "end_time": "2024-10-11T17:44:35.757225",
     "exception": false,
     "start_time": "2024-10-11T17:24:37.017922",
     "status": "completed"
    },
    "tags": []
   },
   "outputs": [],
   "source": [
    "# Train and evaluate models\n",
    "for model_name, model in models.items():\n",
    "    model.fit(X_train_scaled, y_train)\n",
    "    y_test_pred = model.predict_proba(X_test_scaled)[:, 1]\n",
    "    submission = pd.DataFrame({'SK_ID_CURR': application_test['SK_ID_CURR'], 'TARGET': y_test_pred})\n",
    "    submission_filename = f'submission_{model_name.replace(\" \", \"_\").lower()}.csv'\n",
    "    submission.to_csv(submission_filename, index=False)\n",
    "    print(\"Submission file created!\")"
   ]
  },
  {
   "cell_type": "code",
   "execution_count": null,
   "id": "6ea575d2-722b-460e-b9de-97b5b64c53d0",
   "metadata": {},
   "outputs": [],
   "source": []
  }
 ],
 "metadata": {
  "kaggle": {
   "accelerator": "none",
   "dataSources": [
    {
     "databundleVersionId": 860599,
     "sourceId": 9120,
     "sourceType": "competition"
    }
   ],
   "dockerImageVersionId": 30786,
   "isGpuEnabled": false,
   "isInternetEnabled": true,
   "language": "python",
   "sourceType": "notebook"
  },
  "kernelspec": {
   "display_name": "Python 3 (ipykernel)",
   "language": "python",
   "name": "python3"
  },
  "language_info": {
   "codemirror_mode": {
    "name": "ipython",
    "version": 3
   },
   "file_extension": ".py",
   "mimetype": "text/x-python",
   "name": "python",
   "nbconvert_exporter": "python",
   "pygments_lexer": "ipython3",
   "version": "3.11.7"
  },
  "papermill": {
   "default_parameters": {},
   "duration": 3718.72554,
   "end_time": "2024-10-11T17:44:38.917082",
   "environment_variables": {},
   "exception": null,
   "input_path": "__notebook__.ipynb",
   "output_path": "__notebook__.ipynb",
   "parameters": {},
   "start_time": "2024-10-11T16:42:40.191542",
   "version": "2.6.0"
  }
 },
 "nbformat": 4,
 "nbformat_minor": 5
}
