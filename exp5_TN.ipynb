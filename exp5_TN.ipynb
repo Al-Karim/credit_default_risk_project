{
 "cells": [
  {
   "cell_type": "markdown",
   "metadata": {},
   "source": [
    "# Experiment 5. Иcпользование модели TabNet\n",
    "\n",
    "## Цель эксперимента\n",
    "\n",
    "Цель данного эксперимента заключается в оценке влияния обработки пропусков на производительность модели машинного обучения. Мы будем использовать `SimpleImputer` для заполнения пропусков в данных, а затем обучим простую нейронную сеть с использованием библиотеки PyTorch.\n",
    "\n",
    "## Описание данных\n",
    "\n",
    "Данные загружаются из файла `processed_application_train.csv`, который содержит информацию о заявках. Целевая переменная обозначена как `target`, и мы будем использовать остальные столбцы в качестве признаков для обучения модели.\n",
    "\n",
    "## Процесс эксперимента\n",
    "\n",
    "1. **Загрузка данных**: Данные загружаются из CSV файла с использованием библиотеки pandas.\n",
    "\n",
    "2. **Обработка пропусков**: \n",
    "   - Для заполнения пропусков в данных используется `SimpleImputer` с стратегией `most_frequent`, что позволяет заменить пропуски наиболее частым значением в каждом столбце.\n",
    "   \n",
    "3. **Разделение данных**: Данные разделяются на обучающую и тестовую выборки с использованием `train_test_split` из библиотеки scikit-learn.\n",
    "\n",
    "4. **Стандартизация данных**: Признаки стандартизируются с помощью `StandardScaler`, чтобы привести их к одному масштабу.\n",
    "\n",
    "5. **Создание тензоров**: Данные преобразуются в тензоры PyTorch для дальнейшего использования в модели.\n",
    "\n",
    "6. **Определение модели**: Создается простая нейронная сеть с двумя скрытыми слоями и выходным слоем с активацией сигмоид для бинарной классификации.\n",
    "\n",
    "7. **Обучение модели**: Модель обучается на обучающей выборке с использованием бинарной кросс-энтропии в качестве функции потерь и Adam в качестве оптимизатора.\n",
    "\n",
    "8. **Оценка модели**: После обучения модель оценивается на тестовой выборке, и вычисляется точность предсказаний.\n",
    "\n",
    "## Результаты\n",
    "\n",
    "В результате эксперимента мы получим значение точности модели на тестовой выборке, что позволит оценить, насколько эффективно заполнение пропусков повлияло на производительность модели.\n",
    "\n",
    "## Заключение\n",
    "\n",
    "Данный эксперимент поможет понять, как обработка пропусков в данных влияет на качество предсказаний модели. Результаты могут быть использованы для дальнейших улучшений в предобработке данных и выборе моделей.\n"
   ]
  },
  {
   "cell_type": "code",
   "execution_count": 1,
   "metadata": {},
   "outputs": [
    {
     "name": "stdout",
     "output_type": "stream",
     "text": [
      "Defaulting to user installation because normal site-packages is not writeable\n",
      "Requirement already satisfied: pytorch-tabnet in /Users/pelageya/Library/Python/3.9/lib/python/site-packages (4.1.0)\n",
      "Requirement already satisfied: numpy>=1.17 in /Users/pelageya/Library/Python/3.9/lib/python/site-packages (from pytorch-tabnet) (1.26.4)\n",
      "Requirement already satisfied: scikit_learn>0.21 in /Users/pelageya/Library/Python/3.9/lib/python/site-packages (from pytorch-tabnet) (1.4.2)\n",
      "Requirement already satisfied: scipy>1.4 in /Users/pelageya/Library/Python/3.9/lib/python/site-packages (from pytorch-tabnet) (1.13.0)\n",
      "Requirement already satisfied: torch>=1.3 in /Users/pelageya/Library/Python/3.9/lib/python/site-packages (from pytorch-tabnet) (2.3.0)\n",
      "Requirement already satisfied: tqdm>=4.36 in /Users/pelageya/Library/Python/3.9/lib/python/site-packages (from pytorch-tabnet) (4.66.4)\n",
      "Requirement already satisfied: joblib>=1.2.0 in /Users/pelageya/Library/Python/3.9/lib/python/site-packages (from scikit_learn>0.21->pytorch-tabnet) (1.4.2)\n",
      "Requirement already satisfied: threadpoolctl>=2.0.0 in /Users/pelageya/Library/Python/3.9/lib/python/site-packages (from scikit_learn>0.21->pytorch-tabnet) (3.5.0)\n",
      "Requirement already satisfied: filelock in /Users/pelageya/Library/Python/3.9/lib/python/site-packages (from torch>=1.3->pytorch-tabnet) (3.14.0)\n",
      "Requirement already satisfied: typing-extensions>=4.8.0 in /Users/pelageya/Library/Python/3.9/lib/python/site-packages (from torch>=1.3->pytorch-tabnet) (4.11.0)\n",
      "Requirement already satisfied: sympy in /Users/pelageya/Library/Python/3.9/lib/python/site-packages (from torch>=1.3->pytorch-tabnet) (1.12)\n",
      "Requirement already satisfied: networkx in /Users/pelageya/Library/Python/3.9/lib/python/site-packages (from torch>=1.3->pytorch-tabnet) (3.2.1)\n",
      "Requirement already satisfied: jinja2 in /Users/pelageya/Library/Python/3.9/lib/python/site-packages (from torch>=1.3->pytorch-tabnet) (3.1.4)\n",
      "Requirement already satisfied: fsspec in /Users/pelageya/Library/Python/3.9/lib/python/site-packages (from torch>=1.3->pytorch-tabnet) (2024.5.0)\n",
      "Requirement already satisfied: MarkupSafe>=2.0 in /Users/pelageya/Library/Python/3.9/lib/python/site-packages (from jinja2->torch>=1.3->pytorch-tabnet) (2.1.5)\n",
      "Requirement already satisfied: mpmath>=0.19 in /Users/pelageya/Library/Python/3.9/lib/python/site-packages (from sympy->torch>=1.3->pytorch-tabnet) (1.3.0)\n",
      "\n",
      "\u001b[1m[\u001b[0m\u001b[34;49mnotice\u001b[0m\u001b[1;39;49m]\u001b[0m\u001b[39;49m A new release of pip is available: \u001b[0m\u001b[31;49m24.0\u001b[0m\u001b[39;49m -> \u001b[0m\u001b[32;49m25.1\u001b[0m\n",
      "\u001b[1m[\u001b[0m\u001b[34;49mnotice\u001b[0m\u001b[1;39;49m]\u001b[0m\u001b[39;49m To update, run: \u001b[0m\u001b[32;49m/Library/Developer/CommandLineTools/usr/bin/python3 -m pip install --upgrade pip\u001b[0m\n",
      "Note: you may need to restart the kernel to use updated packages.\n"
     ]
    }
   ],
   "source": [
    "pip install pytorch-tabnet"
   ]
  },
  {
   "cell_type": "code",
   "execution_count": null,
   "metadata": {},
   "outputs": [],
   "source": [
    "%load_ext autoreload\n",
    "%autoreload 2"
   ]
  },
  {
   "cell_type": "code",
   "execution_count": 17,
   "metadata": {},
   "outputs": [],
   "source": [
    "import pandas as pd\n",
    "import numpy as np\n",
    "import seaborn as sns\n",
    "from sklearn.model_selection import train_test_split\n",
    "from sklearn.preprocessing import StandardScaler\n",
    "from sklearn.metrics import classification_report, confusion_matrix\n",
    "from sklearn.impute import SimpleImputer\n",
    "from pytorch_tabnet.tab_model import TabNetClassifier\n",
    "import torch\n",
    "\n",
    "from utils.roc_auc import plot_roc_curve"
   ]
  },
  {
   "cell_type": "code",
   "execution_count": 3,
   "metadata": {},
   "outputs": [],
   "source": [
    "target_column = 'TARGET'"
   ]
  },
  {
   "cell_type": "code",
   "execution_count": 4,
   "metadata": {},
   "outputs": [],
   "source": [
    "data = pd.read_csv(\"./data/processed_data/processed_application_train.csv\", index_col=0)\n",
    "\n",
    "# Предположим, что 'target' - это целевая переменная\n",
    "X = data.drop(columns=[target_column])\n",
    "y = data[target_column].values\n",
    "\n",
    "# Обработка пропусков с помощью SimpleImputer\n",
    "imputer = SimpleImputer(strategy='most_frequent')\n",
    "X_imputed = imputer.fit_transform(X)\n",
    "\n",
    "# Разделение данных на обучающую и тестовую выборки\n",
    "X_train, X_test, y_train, y_test = train_test_split(X_imputed, y, test_size=0.3, random_state=42)\n",
    "\n",
    "# Стандартизация данных\n",
    "scaler = StandardScaler()\n",
    "X_train = scaler.fit_transform(X_train)\n",
    "X_test = scaler.transform(X_test)"
   ]
  },
  {
   "cell_type": "code",
   "execution_count": 13,
   "metadata": {},
   "outputs": [
    {
     "name": "stdout",
     "output_type": "stream",
     "text": [
      "epoch 0  | loss: 0.2866  | test_auc: 0.68559 |  0:00:12s\n",
      "epoch 1  | loss: 0.26138 | test_auc: 0.7116  |  0:00:26s\n",
      "epoch 2  | loss: 0.25897 | test_auc: 0.71786 |  0:00:39s\n",
      "epoch 3  | loss: 0.25727 | test_auc: 0.71404 |  0:00:51s\n",
      "epoch 4  | loss: 0.25848 | test_auc: 0.71711 |  0:01:03s\n",
      "epoch 5  | loss: 0.25725 | test_auc: 0.72534 |  0:01:16s\n",
      "epoch 6  | loss: 0.25545 | test_auc: 0.73213 |  0:01:27s\n",
      "epoch 7  | loss: 0.25402 | test_auc: 0.73127 |  0:01:39s\n",
      "epoch 8  | loss: 0.25321 | test_auc: 0.73466 |  0:01:52s\n",
      "epoch 9  | loss: 0.25275 | test_auc: 0.73921 |  0:02:04s\n",
      "epoch 10 | loss: 0.25173 | test_auc: 0.73955 |  0:02:17s\n",
      "epoch 11 | loss: 0.25167 | test_auc: 0.74121 |  0:02:30s\n",
      "epoch 12 | loss: 0.25105 | test_auc: 0.74195 |  0:02:43s\n",
      "epoch 13 | loss: 0.25036 | test_auc: 0.7432  |  0:02:55s\n",
      "epoch 14 | loss: 0.24994 | test_auc: 0.74341 |  0:03:08s\n",
      "epoch 15 | loss: 0.24954 | test_auc: 0.74366 |  0:03:21s\n",
      "epoch 16 | loss: 0.24916 | test_auc: 0.74373 |  0:03:34s\n",
      "epoch 17 | loss: 0.24856 | test_auc: 0.74422 |  0:03:46s\n",
      "epoch 18 | loss: 0.2481  | test_auc: 0.74057 |  0:03:58s\n",
      "epoch 19 | loss: 0.24755 | test_auc: 0.74265 |  0:04:11s\n",
      "epoch 20 | loss: 0.24725 | test_auc: 0.74085 |  0:04:21s\n",
      "epoch 21 | loss: 0.24677 | test_auc: 0.74046 |  0:04:32s\n",
      "epoch 22 | loss: 0.24596 | test_auc: 0.7431  |  0:04:45s\n",
      "epoch 23 | loss: 0.24572 | test_auc: 0.74267 |  0:04:57s\n",
      "epoch 24 | loss: 0.24536 | test_auc: 0.74066 |  0:05:09s\n",
      "epoch 25 | loss: 0.2444  | test_auc: 0.73984 |  0:05:21s\n",
      "epoch 26 | loss: 0.24432 | test_auc: 0.73966 |  0:05:33s\n",
      "epoch 27 | loss: 0.24358 | test_auc: 0.74032 |  0:05:46s\n",
      "\n",
      "Early stopping occurred at epoch 27 with best_epoch = 17 and best_test_auc = 0.74422\n"
     ]
    },
    {
     "name": "stderr",
     "output_type": "stream",
     "text": [
      "/Users/pelageya/Library/Python/3.9/lib/python/site-packages/pytorch_tabnet/callbacks.py:172: UserWarning: Best weights from best epoch are automatically used!\n",
      "  warnings.warn(wrn_msg)\n"
     ]
    },
    {
     "name": "stdout",
     "output_type": "stream",
     "text": [
      "Accuracy: 0.9197\n",
      "ROC AUC: 0.7442\n"
     ]
    }
   ],
   "source": [
    "import matplotlib.pyplot as plt\n",
    "from pytorch_tabnet.tab_model import TabNetClassifier\n",
    "from sklearn.metrics import roc_auc_score\n",
    "\n",
    "# Обучение модели TabNet\n",
    "tabnet_model = TabNetClassifier()\n",
    "tabnet_model.fit(X_train, y_train, \n",
    "                            eval_set=[(X_test, y_test)], \n",
    "                            eval_name=['test'], \n",
    "                            eval_metric=['auc'],  # Используем ROC AUC в качестве метрики\n",
    "                            max_epochs=100, \n",
    "                            patience=10)\n",
    "\n",
    "# Оценка модели\n",
    "y_pred = tabnet_model.predict(X_test)\n",
    "\n",
    "# Вычисление точности\n",
    "accuracy = (y_pred == y_test).mean()\n",
    "print(f'Accuracy: {accuracy:.4f}')\n",
    "\n",
    "# Вычисление ROC AUC\n",
    "y_pred_proba = tabnet_model.predict_proba(X_test)[:, 1]  # Получаем вероятности для положительного класса\n",
    "roc_auc = roc_auc_score(y_test, y_pred_proba)\n",
    "print(f'ROC AUC: {roc_auc:.4f}')"
   ]
  },
  {
   "cell_type": "code",
   "execution_count": 18,
   "metadata": {},
   "outputs": [
    {
     "data": {
      "image/png": "[encoded data removed]",
      "text/plain": [
       "<Figure size 800x600 with 2 Axes>"
      ]
     },
     "metadata": {},
     "output_type": "display_data"
    }
   ],
   "source": [
    "conf_matrix = confusion_matrix(y_test, y_pred)\n",
    "plt.figure(figsize=(8, 6))\n",
    "sns.heatmap(conf_matrix, annot=True, fmt='d', cmap='Blues', \n",
    "            xticklabels=['Negative', 'Positive'], \n",
    "            yticklabels=['Negative', 'Positive'])\n",
    "plt.ylabel('Истинные метки')\n",
    "plt.xlabel('Предсказанные метки')\n",
    "plt.title('Матрица ошибок')\n",
    "plt.show()"
   ]
  },
  {
   "cell_type": "markdown",
   "metadata": {},
   "source": [
    "Нейросеть не будем обучать в несколько итераций для проведения т-теста, так как это требует значительных вычислительных ресурсов и времени. Кроме того в этом нет большого смысла потому что метрика не лучше чем у градиентных бустингов"
   ]
  },
  {
   "cell_type": "code",
   "execution_count": null,
   "metadata": {},
   "outputs": [],
   "source": []
  }
 ],
 "metadata": {
  "kernelspec": {
   "display_name": "Python 3",
   "language": "python",
   "name": "python3"
  },
  "language_info": {
   "codemirror_mode": {
    "name": "ipython",
    "version": 3
   },
   "file_extension": ".py",
   "mimetype": "text/x-python",
   "name": "python",
   "nbconvert_exporter": "python",
   "pygments_lexer": "ipython3",
   "version": "3.9.6"
  }
 },
 "nbformat": 4,
 "nbformat_minor": 2
}
